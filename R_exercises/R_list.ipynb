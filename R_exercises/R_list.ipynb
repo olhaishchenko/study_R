{
 "cells": [
  {
   "cell_type": "markdown",
   "metadata": {},
   "source": [
    "1. Write a R program to create a list containing strings, numbers, vectors and a logical values.\n",
    "\n",
    "\n",
    "\n",
    "\n",
    "\n",
    "\n",
    "15. Write a R program to create a list named s containing sequence of 15 capital letters, starting from ‘E’.\n",
    "\n",
    "16. Write a R program to Add 10 to each element of the first vector in a given list.\n",
    "\n",
    "17. Write a R program to extract all elements except the third element of the first vector of a given list.\n",
    "18. Write a R program to add a new item g4 = \"Python\" to a given list.\n",
    "\n",
    "19. Write a R program to assign new names \"a\", \"b\" and \"c\" to the elements of a given list.\n",
    "20. Write a R program to get the length of the first two vectors of a given list.\n",
    "\n",
    "21. Write a R program to find all elements of a given list that are not in another given list."
   ]
  },
  {
   "cell_type": "code",
   "execution_count": 4,
   "metadata": {
    "vscode": {
     "languageId": "r"
    }
   },
   "outputs": [
    {
     "name": "stdout",
     "output_type": "stream",
     "text": [
      "[[1]]\n",
      "[1] \"a\" \"b\" \"c\"\n",
      "\n",
      "[[2]]\n",
      "[1] 5\n",
      "\n",
      "[[3]]\n",
      "[1]  1  2  2  5  7 12\n",
      "\n",
      "[[4]]\n",
      "     [,1] [,2]\n",
      "[1,]    3    1\n",
      "[2,]   -8   -3\n",
      "\n",
      "[[5]]\n",
      "[1] TRUE\n",
      "\n"
     ]
    }
   ],
   "source": [
    "l <- list(\n",
    "    c('a', 'b', 'c'),\n",
    "    5,\n",
    "    c(1, 2, 2, 5, 7, 12),  # Numeric vector\n",
    "    matrix(c(3, -8, 1, -3), nrow = 2),  # 2x2 matrix\n",
    "    TRUE\n",
    ")\n",
    "print(l)"
   ]
  },
  {
   "cell_type": "markdown",
   "metadata": {},
   "source": [
    "2. Write a R program to list containing a vector, a matrix and a list and give names to the elements in the list."
   ]
  },
  {
   "cell_type": "code",
   "execution_count": 8,
   "metadata": {
    "vscode": {
     "languageId": "r"
    }
   },
   "outputs": [
    {
     "name": "stdout",
     "output_type": "stream",
     "text": [
      "[1] \"List:\"\n",
      "[[1]]\n",
      "[1] \"Red\"   \"Green\" \"Black\"\n",
      "\n",
      "[[2]]\n",
      "     [,1] [,2] [,3]\n",
      "[1,]    1    5    9\n",
      "[2,]    3    7   11\n",
      "\n",
      "[[3]]\n",
      "[[3]][[1]]\n",
      "[1] \"Python\"\n",
      "\n",
      "[[3]][[2]]\n",
      "[1] \"PHP\"\n",
      "\n",
      "[[3]][[3]]\n",
      "[1] \"Java\"\n",
      "\n",
      "\n"
     ]
    },
    {
     "name": "stdout",
     "output_type": "stream",
     "text": [
      "[1] \"List with column names:\"\n",
      "$Color\n",
      "[1] \"Red\"   \"Green\" \"Black\"\n",
      "\n",
      "$`Odd numbers`\n",
      "     [,1] [,2] [,3]\n",
      "[1,]    1    5    9\n",
      "[2,]    3    7   11\n",
      "\n",
      "$`Language(s)`\n",
      "$`Language(s)`[[1]]\n",
      "[1] \"Python\"\n",
      "\n",
      "$`Language(s)`[[2]]\n",
      "[1] \"PHP\"\n",
      "\n",
      "$`Language(s)`[[3]]\n",
      "[1] \"Java\"\n",
      "\n",
      "\n"
     ]
    }
   ],
   "source": [
    "# Create a list containing a vector, a matrix, and another list\n",
    "list_data <- list(c(\"Red\", \"Green\", \"Black\"),     # Vector of color names\n",
    "                  matrix(c(1,3,5,7,9,11), nrow = 2),  # 2x3 matrix of odd numbers\n",
    "                  list(\"Python\", \"PHP\", \"Java\"))      # List of programming languages\n",
    "\n",
    "# Print the original list\n",
    "print(\"List:\")\n",
    "print(list_data)\n",
    "\n",
    "# Assign names to the elements in the list\n",
    "names(list_data) <- c(\"Color\", \"Odd numbers\", \"Language(s)\")\n",
    "\n",
    "# Print the list with the assigned column names\n",
    "print(\"List with column names:\")\n",
    "print(list_data)\n"
   ]
  },
  {
   "cell_type": "markdown",
   "metadata": {},
   "source": [
    "3. Write a R program to create a list containing a vector, a matrix and a list and give names to the elements in the list. Access the first and second element of the list."
   ]
  },
  {
   "cell_type": "code",
   "execution_count": 6,
   "metadata": {
    "vscode": {
     "languageId": "r"
    }
   },
   "outputs": [
    {
     "name": "stdout",
     "output_type": "stream",
     "text": [
      "$Color\n",
      "[1] \"Red\"   \"Green\" \"Black\"\n",
      "\n"
     ]
    },
    {
     "name": "stdout",
     "output_type": "stream",
     "text": [
      "$`Odd numbers`\n",
      "     [,1] [,2] [,3]\n",
      "[1,]    1    5    9\n",
      "[2,]    3    7   11\n",
      "\n"
     ]
    }
   ],
   "source": [
    "print(list_data[\"Color\"])\n",
    "print(list_data[2])"
   ]
  },
  {
   "cell_type": "markdown",
   "metadata": {},
   "source": [
    "4. Write a R program to create a list containing a vector, a matrix and a list and add element at the end of the list."
   ]
  },
  {
   "cell_type": "code",
   "execution_count": 7,
   "metadata": {
    "vscode": {
     "languageId": "r"
    }
   },
   "outputs": [
    {
     "name": "stdout",
     "output_type": "stream",
     "text": [
      "[[1]]\n",
      "[1] 10.5\n",
      "\n",
      "$Color\n",
      "[1] \"Red\"   \"Green\" \"Black\"\n",
      "\n",
      "$`Odd numbers`\n",
      "     [,1] [,2] [,3]\n",
      "[1,]    1    5    9\n",
      "[2,]    3    7   11\n",
      "\n",
      "$`Language(s)`\n",
      "$`Language(s)`[[1]]\n",
      "[1] \"Python\"\n",
      "\n",
      "$`Language(s)`[[2]]\n",
      "[1] \"PHP\"\n",
      "\n",
      "$`Language(s)`[[3]]\n",
      "[1] \"Java\"\n",
      "\n",
      "\n",
      "[[4]]\n",
      "[1] 10.5\n",
      "\n"
     ]
    }
   ],
   "source": [
    "#append(list_data, \"c(5, 6)\")\n",
    "list_data[4] <- 10.5\n",
    "print(list_data[4])\n",
    "print(list_data)"
   ]
  },
  {
   "cell_type": "markdown",
   "metadata": {},
   "source": [
    "5. Write a R program to select second element of a given nested list."
   ]
  },
  {
   "cell_type": "code",
   "execution_count": 8,
   "metadata": {
    "vscode": {
     "languageId": "r"
    }
   },
   "outputs": [
    {
     "name": "stdout",
     "output_type": "stream",
     "text": [
      "$`Odd numbers`\n",
      "     [,1] [,2] [,3]\n",
      "[1,]    1    5    9\n",
      "[2,]    3    7   11\n",
      "\n"
     ]
    }
   ],
   "source": [
    "print(list_data[2])"
   ]
  },
  {
   "cell_type": "markdown",
   "metadata": {},
   "source": [
    "6. Write a R program to create a list containing a vector, a matrix and a list and remove the second element."
   ]
  },
  {
   "cell_type": "code",
   "execution_count": 9,
   "metadata": {
    "vscode": {
     "languageId": "r"
    }
   },
   "outputs": [
    {
     "data": {
      "text/html": [
       "<dl>\n",
       "\t<dt>$Color</dt>\n",
       "\t\t<dd><style>\n",
       ".list-inline {list-style: none; margin:0; padding: 0}\n",
       ".list-inline>li {display: inline-block}\n",
       ".list-inline>li:not(:last-child)::after {content: \"\\00b7\"; padding: 0 .5ex}\n",
       "</style>\n",
       "<ol class=list-inline><li>'Red'</li><li>'Green'</li><li>'Black'</li></ol>\n",
       "</dd>\n",
       "\t<dt>$`Language(s)`</dt>\n",
       "\t\t<dd><ol>\n",
       "\t<li>'Python'</li>\n",
       "\t<li>'PHP'</li>\n",
       "\t<li>'Java'</li>\n",
       "</ol>\n",
       "</dd>\n",
       "\t<dt>[[3]]</dt>\n",
       "\t\t<dd>10.5</dd>\n",
       "</dl>\n"
      ],
      "text/latex": [
       "\\begin{description}\n",
       "\\item[\\$Color] \\begin{enumerate*}\n",
       "\\item 'Red'\n",
       "\\item 'Green'\n",
       "\\item 'Black'\n",
       "\\end{enumerate*}\n",
       "\n",
       "\\item[\\$`Language(s)`] \\begin{enumerate}\n",
       "\\item 'Python'\n",
       "\\item 'PHP'\n",
       "\\item 'Java'\n",
       "\\end{enumerate}\n",
       "\n",
       "\\item[{[[3]]}] 10.5\n",
       "\\end{description}\n"
      ],
      "text/markdown": [
       "$Color\n",
       ":   1. 'Red'\n",
       "2. 'Green'\n",
       "3. 'Black'\n",
       "\n",
       "\n",
       "\n",
       "$`Language(s)`\n",
       ":   1. 'Python'\n",
       "2. 'PHP'\n",
       "3. 'Java'\n",
       "\n",
       "\n",
       "\n",
       "[[3]]\n",
       ":   10.5\n",
       "\n",
       "\n"
      ],
      "text/plain": [
       "$Color\n",
       "[1] \"Red\"   \"Green\" \"Black\"\n",
       "\n",
       "$`Language(s)`\n",
       "$`Language(s)`[[1]]\n",
       "[1] \"Python\"\n",
       "\n",
       "$`Language(s)`[[2]]\n",
       "[1] \"PHP\"\n",
       "\n",
       "$`Language(s)`[[3]]\n",
       "[1] \"Java\"\n",
       "\n",
       "\n",
       "[[3]]\n",
       "[1] 10.5\n"
      ]
     },
     "metadata": {},
     "output_type": "display_data"
    }
   ],
   "source": [
    "newlist <- list_data[-2]\n",
    "newlist"
   ]
  },
  {
   "cell_type": "markdown",
   "metadata": {},
   "source": [
    "7. Write a R program to create a list containing a vector, a matrix and a list and update the last element."
   ]
  },
  {
   "cell_type": "code",
   "execution_count": 12,
   "metadata": {
    "vscode": {
     "languageId": "r"
    }
   },
   "outputs": [
    {
     "data": {
      "text/html": [
       "<dl>\n",
       "\t<dt>$Color</dt>\n",
       "\t\t<dd><style>\n",
       ".list-inline {list-style: none; margin:0; padding: 0}\n",
       ".list-inline>li {display: inline-block}\n",
       ".list-inline>li:not(:last-child)::after {content: \"\\00b7\"; padding: 0 .5ex}\n",
       "</style>\n",
       "<ol class=list-inline><li>'Red'</li><li>'Green'</li><li>'Black'</li></ol>\n",
       "</dd>\n",
       "\t<dt>$`Odd numbers`</dt>\n",
       "\t\t<dd><table class=\"dataframe\">\n",
       "<caption>A matrix: 2 × 3 of type dbl</caption>\n",
       "<tbody>\n",
       "\t<tr><td>1</td><td>5</td><td> 9</td></tr>\n",
       "\t<tr><td>3</td><td>7</td><td>11</td></tr>\n",
       "</tbody>\n",
       "</table>\n",
       "</dd>\n",
       "\t<dt>$`Language(s)`</dt>\n",
       "\t\t<dd><ol>\n",
       "\t<li>'Python'</li>\n",
       "\t<li>'PHP'</li>\n",
       "\t<li>'Java'</li>\n",
       "</ol>\n",
       "</dd>\n",
       "\t<dt>[[4]]</dt>\n",
       "\t\t<dd>10.5</dd>\n",
       "\t<dt>[[5]]</dt>\n",
       "\t\t<dd>'R'</dd>\n",
       "</dl>\n"
      ],
      "text/latex": [
       "\\begin{description}\n",
       "\\item[\\$Color] \\begin{enumerate*}\n",
       "\\item 'Red'\n",
       "\\item 'Green'\n",
       "\\item 'Black'\n",
       "\\end{enumerate*}\n",
       "\n",
       "\\item[\\$`Odd numbers`] A matrix: 2 × 3 of type dbl\n",
       "\\begin{tabular}{lll}\n",
       "\t 1 & 5 &  9\\\\\n",
       "\t 3 & 7 & 11\\\\\n",
       "\\end{tabular}\n",
       "\n",
       "\\item[\\$`Language(s)`] \\begin{enumerate}\n",
       "\\item 'Python'\n",
       "\\item 'PHP'\n",
       "\\item 'Java'\n",
       "\\end{enumerate}\n",
       "\n",
       "\\item[{[[4]]}] 10.5\n",
       "\\item[{[[5]]}] 'R'\n",
       "\\end{description}\n"
      ],
      "text/markdown": [
       "$Color\n",
       ":   1. 'Red'\n",
       "2. 'Green'\n",
       "3. 'Black'\n",
       "\n",
       "\n",
       "\n",
       "$`Odd numbers`\n",
       ":   \n",
       "A matrix: 2 × 3 of type dbl\n",
       "\n",
       "| 1 | 5 |  9 |\n",
       "| 3 | 7 | 11 |\n",
       "\n",
       "\n",
       "$`Language(s)`\n",
       ":   1. 'Python'\n",
       "2. 'PHP'\n",
       "3. 'Java'\n",
       "\n",
       "\n",
       "\n",
       "[[4]]\n",
       ":   10.5\n",
       "[[5]]\n",
       ":   'R'\n",
       "\n",
       "\n"
      ],
      "text/plain": [
       "$Color\n",
       "[1] \"Red\"   \"Green\" \"Black\"\n",
       "\n",
       "$`Odd numbers`\n",
       "     [,1] [,2] [,3]\n",
       "[1,]    1    5    9\n",
       "[2,]    3    7   11\n",
       "\n",
       "$`Language(s)`\n",
       "$`Language(s)`[[1]]\n",
       "[1] \"Python\"\n",
       "\n",
       "$`Language(s)`[[2]]\n",
       "[1] \"PHP\"\n",
       "\n",
       "$`Language(s)`[[3]]\n",
       "[1] \"Java\"\n",
       "\n",
       "\n",
       "[[4]]\n",
       "[1] 10.5\n",
       "\n",
       "[[5]]\n",
       "[1] \"R\"\n"
      ]
     },
     "metadata": {},
     "output_type": "display_data"
    }
   ],
   "source": [
    "newlist_2 <- list_data\n",
    "# append(newlist_2, 'R')\n",
    "\n"
   ]
  },
  {
   "cell_type": "code",
   "execution_count": 7,
   "metadata": {
    "vscode": {
     "languageId": "r"
    }
   },
   "outputs": [
    {
     "name": "stdout",
     "output_type": "stream",
     "text": [
      "[1] \"List:\"\n",
      "[[1]]\n",
      "[1] \"Red\"   \"Green\" \"Black\"\n",
      "\n",
      "[[2]]\n",
      "     [,1] [,2] [,3]\n",
      "[1,]    1    5    9\n",
      "[2,]    3    7   11\n",
      "\n",
      "[[3]]\n",
      "[[3]][[1]]\n",
      "[1] \"Python\"\n",
      "\n",
      "\n",
      "[1] \"Update the third element of the list:\"\n",
      "[1] \"New list:\"\n",
      "[[1]]\n",
      "[1] \"Red\"   \"Green\" \"Black\"\n",
      "\n",
      "[[2]]\n",
      "     [,1] [,2] [,3]\n",
      "[1,]    1    5    9\n",
      "[2,]    3    7   11\n",
      "\n",
      "[[3]]\n",
      "[1] \"R programming\"\n",
      "\n"
     ]
    }
   ],
   "source": [
    "# Create a list containing a vector, a matrix, and another list\n",
    "list_data <- list(c(\"Red\", \"Green\", \"Black\"), matrix(c(1, 3, 5, 7, 9, 11), nrow = 2),\n",
    "list(\"Python\"))\n",
    "\n",
    "# Print the current state of the list\n",
    "print(\"List:\")\n",
    "print(list_data)\n",
    "\n",
    "# Print a message indicating the next operation\n",
    "print(\"Update the third element of the list:\")\n",
    "\n",
    "# Update the third element of the list with a new value\n",
    "list_data[3] = \"R programming\"\n",
    "\n",
    "# Print the updated state of the list\n",
    "print(\"New list:\")\n",
    "print(list_data)"
   ]
  },
  {
   "cell_type": "markdown",
   "metadata": {},
   "source": [
    "8. Write a R program to merge two given lists into one list."
   ]
  },
  {
   "cell_type": "code",
   "execution_count": 6,
   "metadata": {
    "vscode": {
     "languageId": "r"
    }
   },
   "outputs": [
    {
     "data": {
      "text/html": [
       "<ol>\n",
       "\t<li><style>\n",
       ".list-inline {list-style: none; margin:0; padding: 0}\n",
       ".list-inline>li {display: inline-block}\n",
       ".list-inline>li:not(:last-child)::after {content: \"\\00b7\"; padding: 0 .5ex}\n",
       "</style>\n",
       "<ol class=list-inline><li>1</li><li>2</li><li>3</li></ol>\n",
       "</li>\n",
       "\t<li><style>\n",
       ".list-inline {list-style: none; margin:0; padding: 0}\n",
       ".list-inline>li {display: inline-block}\n",
       ".list-inline>li:not(:last-child)::after {content: \"\\00b7\"; padding: 0 .5ex}\n",
       "</style>\n",
       "<ol class=list-inline><li>2</li><li>34</li><li>2</li></ol>\n",
       "</li>\n",
       "\t<li><style>\n",
       ".list-inline {list-style: none; margin:0; padding: 0}\n",
       ".list-inline>li {display: inline-block}\n",
       ".list-inline>li:not(:last-child)::after {content: \"\\00b7\"; padding: 0 .5ex}\n",
       "</style>\n",
       "<ol class=list-inline><li>1</li><li>2</li></ol>\n",
       "</li>\n",
       "\t<li><style>\n",
       ".list-inline {list-style: none; margin:0; padding: 0}\n",
       ".list-inline>li {display: inline-block}\n",
       ".list-inline>li:not(:last-child)::after {content: \"\\00b7\"; padding: 0 .5ex}\n",
       "</style>\n",
       "<ol class=list-inline><li>2</li><li>3</li><li>2</li><li>1</li></ol>\n",
       "</li>\n",
       "\t<li><style>\n",
       ".list-inline {list-style: none; margin:0; padding: 0}\n",
       ".list-inline>li {display: inline-block}\n",
       ".list-inline>li:not(:last-child)::after {content: \"\\00b7\"; padding: 0 .5ex}\n",
       "</style>\n",
       "<ol class=list-inline><li>'sdf'</li><li>'3'</li><li>'2'</li></ol>\n",
       "</li>\n",
       "</ol>\n"
      ],
      "text/latex": [
       "\\begin{enumerate}\n",
       "\\item \\begin{enumerate*}\n",
       "\\item 1\n",
       "\\item 2\n",
       "\\item 3\n",
       "\\end{enumerate*}\n",
       "\n",
       "\\item \\begin{enumerate*}\n",
       "\\item 2\n",
       "\\item 34\n",
       "\\item 2\n",
       "\\end{enumerate*}\n",
       "\n",
       "\\item \\begin{enumerate*}\n",
       "\\item 1\n",
       "\\item 2\n",
       "\\end{enumerate*}\n",
       "\n",
       "\\item \\begin{enumerate*}\n",
       "\\item 2\n",
       "\\item 3\n",
       "\\item 2\n",
       "\\item 1\n",
       "\\end{enumerate*}\n",
       "\n",
       "\\item \\begin{enumerate*}\n",
       "\\item 'sdf'\n",
       "\\item '3'\n",
       "\\item '2'\n",
       "\\end{enumerate*}\n",
       "\n",
       "\\end{enumerate}\n"
      ],
      "text/markdown": [
       "1. 1. 1\n",
       "2. 2\n",
       "3. 3\n",
       "\n",
       "\n",
       "\n",
       "2. 1. 2\n",
       "2. 34\n",
       "3. 2\n",
       "\n",
       "\n",
       "\n",
       "3. 1. 1\n",
       "2. 2\n",
       "\n",
       "\n",
       "\n",
       "4. 1. 2\n",
       "2. 3\n",
       "3. 2\n",
       "4. 1\n",
       "\n",
       "\n",
       "\n",
       "5. 1. 'sdf'\n",
       "2. '3'\n",
       "3. '2'\n",
       "\n",
       "\n",
       "\n",
       "\n",
       "\n"
      ],
      "text/plain": [
       "[[1]]\n",
       "[1] 1 2 3\n",
       "\n",
       "[[2]]\n",
       "[1]  2 34  2\n",
       "\n",
       "[[3]]\n",
       "[1] 1 2\n",
       "\n",
       "[[4]]\n",
       "[1] 2 3 2 1\n",
       "\n",
       "[[5]]\n",
       "[1] \"sdf\" \"3\"   \"2\"  \n"
      ]
     },
     "metadata": {},
     "output_type": "display_data"
    }
   ],
   "source": [
    "a <- list(c(1, 2, 3), c(2, 34, 2))\n",
    "b <- list(c(1, 2), c(2, 3, 2, 1))\n",
    "c <- list(c(\"sdf\", 3, 2))\n",
    "joint_list <- c(a, b, c)\n",
    "joint_list"
   ]
  },
  {
   "cell_type": "markdown",
   "metadata": {},
   "source": [
    "9. Write a R program to convert a given list to vector."
   ]
  },
  {
   "cell_type": "code",
   "execution_count": 11,
   "metadata": {
    "vscode": {
     "languageId": "r"
    }
   },
   "outputs": [
    {
     "data": {
      "text/html": [
       "<style>\n",
       ".list-inline {list-style: none; margin:0; padding: 0}\n",
       ".list-inline>li {display: inline-block}\n",
       ".list-inline>li:not(:last-child)::after {content: \"\\00b7\"; padding: 0 .5ex}\n",
       "</style>\n",
       "<ol class=list-inline><li>1</li><li>2</li><li>3</li><li>4</li><li>5</li><li>6</li></ol>\n"
      ],
      "text/latex": [
       "\\begin{enumerate*}\n",
       "\\item 1\n",
       "\\item 2\n",
       "\\item 3\n",
       "\\item 4\n",
       "\\item 5\n",
       "\\item 6\n",
       "\\end{enumerate*}\n"
      ],
      "text/markdown": [
       "1. 1\n",
       "2. 2\n",
       "3. 3\n",
       "4. 4\n",
       "5. 5\n",
       "6. 6\n",
       "\n",
       "\n"
      ],
      "text/plain": [
       "[1] 1 2 3 4 5 6"
      ]
     },
     "metadata": {},
     "output_type": "display_data"
    }
   ],
   "source": [
    "my_list <- list(A = c(1, 2, 3),\n",
    "                B = c(4, 5),\n",
    "                C = 6)\n",
    "new_vector <- unlist(my_list, use.names = FALSE)\n",
    "new_vector"
   ]
  },
  {
   "cell_type": "code",
   "execution_count": null,
   "metadata": {
    "vscode": {
     "languageId": "r"
    }
   },
   "outputs": [],
   "source": [
    "# Create the first list containing numbers\n",
    "n1 = list(1,2,3)\n",
    "\n",
    "# Create the second list containing numbers\n",
    "c1 = list(4,5,6)\n",
    "\n",
    "# Print the message indicating the start of the original lists\n",
    "print(\"Original lists:\")\n",
    "\n",
    "# Print the first list\n",
    "print(n1)\n",
    "\n",
    "# Print the second list\n",
    "print(c1)\n",
    "\n",
    "# Print the message indicating the start of conversion to vectors\n",
    "print(\"Convert the lists to vectors:\")\n",
    "\n",
    "# Convert the first list to a vector\n",
    "v1 = unlist(n1)\n",
    "\n",
    "# Convert the second list to a vector\n",
    "v2 = unlist(c1)\n",
    "\n",
    "# Print the vector created from the first list\n",
    "print(v1)\n",
    "\n",
    "# Print the vector created from the second list\n",
    "print(v2)\n",
    "\n",
    "# Print the message indicating the start of adding two vectors\n",
    "print(\"Add two vectors:\")\n",
    "\n",
    "# Add the two vectors element-wise\n",
    "v = v1 + v2\n",
    "\n",
    "# Print the resulting vector after addition\n",
    "print(\"New vector:\")\n",
    "\n",
    "# Print the new vector\n",
    "print(v)\n"
   ]
  },
  {
   "cell_type": "markdown",
   "metadata": {},
   "source": [
    "10. Write a R program to create a list of dataframes and access each of those dataframes from the list."
   ]
  },
  {
   "cell_type": "code",
   "execution_count": 12,
   "metadata": {
    "vscode": {
     "languageId": "r"
    }
   },
   "outputs": [
    {
     "name": "stdout",
     "output_type": "stream",
     "text": [
      "[1] \"New list:\"\n",
      "[[1]]\n",
      "  y1 y2\n",
      "1  0  3\n",
      "2  1  4\n",
      "3  2  5\n",
      "\n",
      "[[2]]\n",
      "  y1 y2\n",
      "1  6  9\n",
      "2  7 10\n",
      "3  8 11\n",
      "\n",
      "[1] \"Data frame-1\"\n",
      "  y1 y2\n",
      "1  0  3\n",
      "2  1  4\n",
      "3  2  5\n",
      "[1] \"Data frame-2\"\n",
      "  y1 y2\n",
      "1  6  9\n",
      "2  7 10\n",
      "3  8 11\n"
     ]
    }
   ],
   "source": [
    " # Create the first dataframe with columns y1 and y2\n",
    "df1 = data.frame(y1 = c(0, 1, 2), y2 = c(3, 4, 5))\n",
    "\n",
    "# Create the second dataframe with columns y1 and y2\n",
    "df2 = data.frame(y1 = c(6, 7, 8), y2 = c(9, 10, 11))\n",
    "\n",
    "# Combine the two dataframes into a list\n",
    "new_list = list(df1, df2)\n",
    "\n",
    "# Print a message indicating the new list\n",
    "print(\"New list:\")\n",
    "\n",
    "# Print the new list containing the dataframes\n",
    "print(new_list)\n",
    "\n",
    "# Print a message indicating the first dataframe\n",
    "print(\"Data frame-1\")\n",
    "\n",
    "# Print the first dataframe from the list\n",
    "print(new_list[[1]])\n",
    "\n",
    "# Print a message indicating the second dataframe\n",
    "print(\"Data frame-2\")\n",
    "\n",
    "# Print the second dataframe from the list\n",
    "print(new_list[[2]])\n"
   ]
  },
  {
   "cell_type": "markdown",
   "metadata": {},
   "source": [
    "11. Write a R program to count number of objects in a given list."
   ]
  },
  {
   "cell_type": "code",
   "execution_count": 13,
   "metadata": {
    "vscode": {
     "languageId": "r"
    }
   },
   "outputs": [
    {
     "name": "stdout",
     "output_type": "stream",
     "text": [
      "[1] 3\n"
     ]
    }
   ],
   "source": [
    "list_data_11 <- list(c(\"Red\", \"Green\", \"Black\"), matrix(c(1, 3, 5, 7, 9, 11), nrow = 2), list(\"Python\"))\n",
    "print(length(list_data_11))"
   ]
  },
  {
   "cell_type": "markdown",
   "metadata": {},
   "source": [
    "12. Write a R program to convert a given dataframe to a list by rows."
   ]
  },
  {
   "cell_type": "code",
   "execution_count": 14,
   "metadata": {
    "vscode": {
     "languageId": "r"
    }
   },
   "outputs": [
    {
     "name": "stdout",
     "output_type": "stream",
     "text": [
      "$`1`\n",
      "  y1 y2\n",
      "1  0  3\n",
      "\n",
      "$`2`\n",
      "  y1 y2\n",
      "2  1  4\n",
      "\n",
      "$`3`\n",
      "  y1 y2\n",
      "3  2  5\n",
      "\n"
     ]
    }
   ],
   "source": [
    "df_12 <- data.frame(y1 = c(0, 1, 2), y2 = c(3, 4, 5))\n",
    "new_list_12 <- split(df_12, seq(nrow(df_12)))\n",
    "print(new_list_12)"
   ]
  },
  {
   "cell_type": "code",
   "execution_count": 15,
   "metadata": {
    "vscode": {
     "languageId": "r"
    }
   },
   "outputs": [
    {
     "name": "stdout",
     "output_type": "stream",
     "text": [
      "[1] \"Original dataframe:\"\n",
      "        name score attempts qualify\n",
      "1  Anastasia  12.5        1     yes\n",
      "2       Dima   9.0        3      no\n",
      "3  Katherine  16.5        2     yes\n",
      "4      James  12.0        3      no\n",
      "5      Emily   9.0        2      no\n",
      "6    Michael  20.0        3     yes\n",
      "7    Matthew  14.5        1     yes\n",
      "8      Laura  13.5        1      no\n",
      "9      Kevin   8.0        2      no\n",
      "10     Jonas  19.0        1     yes\n",
      "[1] \"dataframe rows to a list:\"\n",
      "$`1`\n",
      "       name score attempts qualify\n",
      "1 Anastasia  12.5        1     yes\n",
      "\n",
      "$`2`\n",
      "  name score attempts qualify\n",
      "2 Dima     9        3      no\n",
      "\n",
      "$`3`\n",
      "       name score attempts qualify\n",
      "3 Katherine  16.5        2     yes\n",
      "\n",
      "$`4`\n",
      "   name score attempts qualify\n",
      "4 James    12        3      no\n",
      "\n",
      "$`5`\n",
      "   name score attempts qualify\n",
      "5 Emily     9        2      no\n",
      "\n",
      "$`6`\n",
      "     name score attempts qualify\n",
      "6 Michael    20        3     yes\n",
      "\n",
      "$`7`\n",
      "     name score attempts qualify\n",
      "7 Matthew  14.5        1     yes\n",
      "\n",
      "$`8`\n",
      "   name score attempts qualify\n",
      "8 Laura  13.5        1      no\n",
      "\n",
      "$`9`\n",
      "   name score attempts qualify\n",
      "9 Kevin     8        2      no\n",
      "\n",
      "$`10`\n",
      "    name score attempts qualify\n",
      "10 Jonas    19        1     yes\n",
      "\n"
     ]
    }
   ],
   "source": [
    "# Create a data frame with student exam data\n",
    "exam_data = data.frame(\n",
    "  name = c('Anastasia', 'Dima', 'Katherine', 'James', 'Emily', 'Michael', 'Matthew', 'Laura', 'Kevin', 'Jonas'),\n",
    "  score = c(12.5, 9, 16.5, 12, 9, 20, 14.5, 13.5, 8, 19),\n",
    "  attempts = c(1, 3, 2, 3, 2, 3, 1, 1, 2, 1),\n",
    "  qualify = c('yes', 'no', 'yes', 'no', 'no', 'yes', 'yes', 'no', 'no', 'yes')\n",
    ")\n",
    "\n",
    "# Print the original data frame\n",
    "print(\"Original dataframe:\")\n",
    "print(exam_data)\n",
    "\n",
    "# Convert each row of the data frame to a separate list element\n",
    "new_list = split(exam_data, seq(nrow(exam_data)))\n",
    "\n",
    "# Print the list created from the data frame rows\n",
    "print(\"dataframe rows to a list:\")\n",
    "print(new_list)\n"
   ]
  },
  {
   "cell_type": "markdown",
   "metadata": {},
   "source": [
    "13. Write a R program to convert a given matrix to a list."
   ]
  },
  {
   "cell_type": "code",
   "execution_count": 17,
   "metadata": {
    "vscode": {
     "languageId": "r"
    }
   },
   "outputs": [
    {
     "data": {
      "text/html": [
       "<dl>\n",
       "\t<dt>$`1`</dt>\n",
       "\t\t<dd><style>\n",
       ".list-inline {list-style: none; margin:0; padding: 0}\n",
       ".list-inline>li {display: inline-block}\n",
       ".list-inline>li:not(:last-child)::after {content: \"\\00b7\"; padding: 0 .5ex}\n",
       "</style>\n",
       "<ol class=list-inline><li>1</li><li>3</li></ol>\n",
       "</dd>\n",
       "\t<dt>$`2`</dt>\n",
       "\t\t<dd><style>\n",
       ".list-inline {list-style: none; margin:0; padding: 0}\n",
       ".list-inline>li {display: inline-block}\n",
       ".list-inline>li:not(:last-child)::after {content: \"\\00b7\"; padding: 0 .5ex}\n",
       "</style>\n",
       "<ol class=list-inline><li>5</li><li>7</li></ol>\n",
       "</dd>\n",
       "\t<dt>$`3`</dt>\n",
       "\t\t<dd><style>\n",
       ".list-inline {list-style: none; margin:0; padding: 0}\n",
       ".list-inline>li {display: inline-block}\n",
       ".list-inline>li:not(:last-child)::after {content: \"\\00b7\"; padding: 0 .5ex}\n",
       "</style>\n",
       "<ol class=list-inline><li>9</li><li>11</li></ol>\n",
       "</dd>\n",
       "</dl>\n"
      ],
      "text/latex": [
       "\\begin{description}\n",
       "\\item[\\$`1`] \\begin{enumerate*}\n",
       "\\item 1\n",
       "\\item 3\n",
       "\\end{enumerate*}\n",
       "\n",
       "\\item[\\$`2`] \\begin{enumerate*}\n",
       "\\item 5\n",
       "\\item 7\n",
       "\\end{enumerate*}\n",
       "\n",
       "\\item[\\$`3`] \\begin{enumerate*}\n",
       "\\item 9\n",
       "\\item 11\n",
       "\\end{enumerate*}\n",
       "\n",
       "\\end{description}\n"
      ],
      "text/markdown": [
       "$`1`\n",
       ":   1. 1\n",
       "2. 3\n",
       "\n",
       "\n",
       "\n",
       "$`2`\n",
       ":   1. 5\n",
       "2. 7\n",
       "\n",
       "\n",
       "\n",
       "$`3`\n",
       ":   1. 9\n",
       "2. 11\n",
       "\n",
       "\n",
       "\n",
       "\n",
       "\n"
      ],
      "text/plain": [
       "$`1`\n",
       "[1] 1 3\n",
       "\n",
       "$`2`\n",
       "[1] 5 7\n",
       "\n",
       "$`3`\n",
       "[1]  9 11\n"
      ]
     },
     "metadata": {},
     "output_type": "display_data"
    }
   ],
   "source": [
    "m_13 <- matrix(c(1, 3, 5, 7, 9, 11), nrow = 2)\n",
    "l_13 <- split(m_13, rep(1: ncol(m_13), each = nrow(m_13)))\n",
    "l_13"
   ]
  },
  {
   "cell_type": "code",
   "execution_count": 18,
   "metadata": {
    "vscode": {
     "languageId": "r"
    }
   },
   "outputs": [
    {
     "data": {
      "text/html": [
       "<dl>\n",
       "\t<dt>$`1`</dt>\n",
       "\t\t<dd><style>\n",
       ".list-inline {list-style: none; margin:0; padding: 0}\n",
       ".list-inline>li {display: inline-block}\n",
       ".list-inline>li:not(:last-child)::after {content: \"\\00b7\"; padding: 0 .5ex}\n",
       "</style>\n",
       "<ol class=list-inline><li>1</li><li>2</li><li>3</li><li>4</li><li>5</li><li>6</li><li>7</li><li>8</li><li>9</li><li>10</li></ol>\n",
       "</dd>\n",
       "\t<dt>$`2`</dt>\n",
       "\t\t<dd><style>\n",
       ".list-inline {list-style: none; margin:0; padding: 0}\n",
       ".list-inline>li {display: inline-block}\n",
       ".list-inline>li:not(:last-child)::after {content: \"\\00b7\"; padding: 0 .5ex}\n",
       "</style>\n",
       "<ol class=list-inline><li>16</li><li>9</li><li>4</li><li>1</li><li>0</li><li>1</li><li>4</li><li>9</li><li>16</li><li>25</li></ol>\n",
       "</dd>\n",
       "</dl>\n"
      ],
      "text/latex": [
       "\\begin{description}\n",
       "\\item[\\$`1`] \\begin{enumerate*}\n",
       "\\item 1\n",
       "\\item 2\n",
       "\\item 3\n",
       "\\item 4\n",
       "\\item 5\n",
       "\\item 6\n",
       "\\item 7\n",
       "\\item 8\n",
       "\\item 9\n",
       "\\item 10\n",
       "\\end{enumerate*}\n",
       "\n",
       "\\item[\\$`2`] \\begin{enumerate*}\n",
       "\\item 16\n",
       "\\item 9\n",
       "\\item 4\n",
       "\\item 1\n",
       "\\item 0\n",
       "\\item 1\n",
       "\\item 4\n",
       "\\item 9\n",
       "\\item 16\n",
       "\\item 25\n",
       "\\end{enumerate*}\n",
       "\n",
       "\\end{description}\n"
      ],
      "text/markdown": [
       "$`1`\n",
       ":   1. 1\n",
       "2. 2\n",
       "3. 3\n",
       "4. 4\n",
       "5. 5\n",
       "6. 6\n",
       "7. 7\n",
       "8. 8\n",
       "9. 9\n",
       "10. 10\n",
       "\n",
       "\n",
       "\n",
       "$`2`\n",
       ":   1. 16\n",
       "2. 9\n",
       "3. 4\n",
       "4. 1\n",
       "5. 0\n",
       "6. 1\n",
       "7. 4\n",
       "8. 9\n",
       "9. 16\n",
       "10. 25\n",
       "\n",
       "\n",
       "\n",
       "\n",
       "\n"
      ],
      "text/plain": [
       "$`1`\n",
       " [1]  1  2  3  4  5  6  7  8  9 10\n",
       "\n",
       "$`2`\n",
       " [1] 16  9  4  1  0  1  4  9 16 25\n"
      ]
     },
     "metadata": {},
     "output_type": "display_data"
    },
    {
     "data": {
      "text/html": [
       "<dl>\n",
       "\t<dt>$`1`</dt>\n",
       "\t\t<dd><style>\n",
       ".list-inline {list-style: none; margin:0; padding: 0}\n",
       ".list-inline>li {display: inline-block}\n",
       ".list-inline>li:not(:last-child)::after {content: \"\\00b7\"; padding: 0 .5ex}\n",
       "</style>\n",
       "<ol class=list-inline><li>1</li><li>3</li><li>5</li><li>7</li><li>9</li></ol>\n",
       "</dd>\n",
       "\t<dt>$`2`</dt>\n",
       "\t\t<dd><style>\n",
       ".list-inline {list-style: none; margin:0; padding: 0}\n",
       ".list-inline>li {display: inline-block}\n",
       ".list-inline>li:not(:last-child)::after {content: \"\\00b7\"; padding: 0 .5ex}\n",
       "</style>\n",
       "<ol class=list-inline><li>2</li><li>4</li><li>6</li><li>8</li><li>10</li></ol>\n",
       "</dd>\n",
       "</dl>\n"
      ],
      "text/latex": [
       "\\begin{description}\n",
       "\\item[\\$`1`] \\begin{enumerate*}\n",
       "\\item 1\n",
       "\\item 3\n",
       "\\item 5\n",
       "\\item 7\n",
       "\\item 9\n",
       "\\end{enumerate*}\n",
       "\n",
       "\\item[\\$`2`] \\begin{enumerate*}\n",
       "\\item 2\n",
       "\\item 4\n",
       "\\item 6\n",
       "\\item 8\n",
       "\\item 10\n",
       "\\end{enumerate*}\n",
       "\n",
       "\\end{description}\n"
      ],
      "text/markdown": [
       "$`1`\n",
       ":   1. 1\n",
       "2. 3\n",
       "3. 5\n",
       "4. 7\n",
       "5. 9\n",
       "\n",
       "\n",
       "\n",
       "$`2`\n",
       ":   1. 2\n",
       "2. 4\n",
       "3. 6\n",
       "4. 8\n",
       "5. 10\n",
       "\n",
       "\n",
       "\n",
       "\n",
       "\n"
      ],
      "text/plain": [
       "$`1`\n",
       "[1] 1 3 5 7 9\n",
       "\n",
       "$`2`\n",
       "[1]  2  4  6  8 10\n"
      ]
     },
     "metadata": {},
     "output_type": "display_data"
    }
   ],
   "source": [
    "ma <- cbind(x = 1:10, y = (-4:5)^2)\n",
    " split(ma, col(ma))\n",
    " \n",
    " split(1:10, 1:2)"
   ]
  },
  {
   "cell_type": "code",
   "execution_count": null,
   "metadata": {
    "vscode": {
     "languageId": "r"
    }
   },
   "outputs": [],
   "source": [
    "# Create a matrix with values from 1 to 10, having 2 rows and 2 columns\n",
    "m = matrix(1:10, nrow = 2, ncol = 2)\n",
    "\n",
    "# Print the message indicating the original matrix\n",
    "print(\"Original matrix:\")\n",
    "\n",
    "# Print the original matrix\n",
    "print(m)\n",
    "\n",
    "# Convert the matrix into a list by splitting it column-wise\n",
    "l = split(m, rep(1:ncol(m), each = nrow(m)))\n",
    "\n",
    "# Print the message indicating the list derived from the matrix\n",
    "print(\"list from the said matrix:\")\n",
    "\n",
    "# Print the resulting list\n",
    "print(l)\n"
   ]
  },
  {
   "cell_type": "markdown",
   "metadata": {},
   "source": [
    "14. Write a R program to assign NULL to a given list element."
   ]
  },
  {
   "cell_type": "code",
   "execution_count": null,
   "metadata": {
    "vscode": {
     "languageId": "r"
    }
   },
   "outputs": [],
   "source": []
  }
 ],
 "metadata": {
  "kernelspec": {
   "display_name": "R",
   "language": "R",
   "name": "ir"
  },
  "language_info": {
   "codemirror_mode": "r",
   "file_extension": ".r",
   "mimetype": "text/x-r-source",
   "name": "R",
   "pygments_lexer": "r",
   "version": "4.4.1"
  }
 },
 "nbformat": 4,
 "nbformat_minor": 2
}
