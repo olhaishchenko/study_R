{
 "cells": [
  {
   "cell_type": "markdown",
   "metadata": {},
   "source": [
    "1. Write a R program to convert a given matrix to a 1 dimensional array."
   ]
  },
  {
   "cell_type": "code",
   "execution_count": 5,
   "metadata": {
    "vscode": {
     "languageId": "r"
    }
   },
   "outputs": [
    {
     "name": "stdout",
     "output_type": "stream",
     "text": [
      "     [,1] [,2] [,3] [,4]\n",
      "[1,]    1    4    7   10\n",
      "[2,]    2    5    8   11\n",
      "[3,]    3    6    9   12\n",
      " [1]  1  2  3  4  5  6  7  8  9 10 11 12\n"
     ]
    }
   ],
   "source": [
    "#1\n",
    "mat_ar <- matrix(c(1:12), 3, 4)\n",
    "as_vec <- c(mat_ar)\n",
    "print(mat_ar)\n",
    "print(as_vec)"
   ]
  },
  {
   "cell_type": "code",
   "execution_count": null,
   "metadata": {
    "vscode": {
     "languageId": "r"
    }
   },
   "outputs": [],
   "source": [
    "# Create a matrix 'm' with 3 rows and 4 columns filled with values from 1 to 12\n",
    "m = matrix(1:12, 3, 4)\n",
    "\n",
    "# Print a message indicating the original matrix\n",
    "print(\"Original matrix:\")\n",
    "\n",
    "# Display the original matrix\n",
    "print(m)\n",
    "\n",
    "# Convert the matrix 'm' to a 1-dimensional array\n",
    "a = as.vector(m)\n",
    "\n",
    "# Print a message indicating the 1-dimensional array\n",
    "print(\"1 dimensional array:\")\n",
    "\n",
    "# Display the 1-dimensional array\n",
    "print(a)\n"
   ]
  },
  {
   "cell_type": "markdown",
   "metadata": {},
   "source": [
    "2. Write a R program to create an array of two 3x3 matrices each with 3 rows and 3 columns from two given two vectors."
   ]
  },
  {
   "cell_type": "code",
   "execution_count": null,
   "metadata": {
    "vscode": {
     "languageId": "r"
    }
   },
   "outputs": [
    {
     "name": "stdout",
     "output_type": "stream",
     "text": [
      ", , 1\n",
      "\n",
      "     [,1] [,2] [,3]\n",
      "[1,]    1    4    7\n",
      "[2,]    2    5    8\n",
      "[3,]    3    6    9\n",
      "\n",
      ", , 2\n",
      "\n",
      "     [,1] [,2] [,3]\n",
      "[1,]   10   13   16\n",
      "[2,]   11   14   17\n",
      "[3,]   12   15   18\n",
      "\n"
     ]
    }
   ],
   "source": [
    "#2\n",
    "vec1 <- c(1:20)\n",
    "vec2 <- c(50:70)\n",
    "mat_2 <- array(c(vec1, vec2), dim = c(3, 3, 2))\n",
    "print(mat_2)"
   ]
  },
  {
   "cell_type": "markdown",
   "metadata": {},
   "source": [
    "3. Write a R program to create an 3 dimensional array of 24 elements using the dim() function."
   ]
  },
  {
   "cell_type": "code",
   "execution_count": 12,
   "metadata": {
    "vscode": {
     "languageId": "r"
    }
   },
   "outputs": [
    {
     "name": "stdout",
     "output_type": "stream",
     "text": [
      "     [,1] [,2] [,3]\n",
      "[1,]    1    4    7\n",
      "[2,]    2    5    8\n",
      "[3,]    3    6    9\n"
     ]
    }
   ],
   "source": [
    "mat_3 <- array(c(1:24), dim=c(3,3))\n",
    "print(mat_3)"
   ]
  },
  {
   "cell_type": "code",
   "execution_count": 13,
   "metadata": {
    "vscode": {
     "languageId": "r"
    }
   },
   "outputs": [
    {
     "name": "stdout",
     "output_type": "stream",
     "text": [
      "[1] \"3-dimension array:\"\n",
      ", , 1\n",
      "\n",
      "     [,1] [,2]\n",
      "[1,]    2    2\n",
      "[2,]    5    4\n",
      "[3,]    4    3\n",
      "\n",
      ", , 2\n",
      "\n",
      "     [,1] [,2]\n",
      "[1,]    2    3\n",
      "[2,]    2    2\n",
      "[3,]    1    4\n",
      "\n",
      ", , 3\n",
      "\n",
      "     [,1] [,2]\n",
      "[1,]    2    3\n",
      "[2,]    1    5\n",
      "[3,]    2    4\n",
      "\n",
      ", , 4\n",
      "\n",
      "     [,1] [,2]\n",
      "[1,]    3    2\n",
      "[2,]    5    1\n",
      "[3,]    4    5\n",
      "\n"
     ]
    }
   ],
   "source": [
    "# Generate a vector 'v' with 24 random integers between 1 and 5, allowing replacement\n",
    "v = sample(1:5, 24, replace = TRUE)\n",
    "\n",
    "# Reshape the vector 'v' into a 3-dimensional array with dimensions 3x2x4\n",
    "dim(v) = c(3, 2, 4)\n",
    "\n",
    "# Print a message indicating the output is a 3-dimensional array\n",
    "print(\"3-dimension array:\")\n",
    "\n",
    "# Display the contents of the 3-dimensional array\n",
    "print(v)\n"
   ]
  },
  {
   "cell_type": "markdown",
   "metadata": {},
   "source": [
    "4. Write a R program to create an array of two 3x3 matrices each with 3 rows and 3 columns from two given two vectors. Print the second row of the second matrix of the array and the element in the 3rd row and 3rd column of the 1st matrix."
   ]
  },
  {
   "cell_type": "code",
   "execution_count": 19,
   "metadata": {
    "vscode": {
     "languageId": "r"
    }
   },
   "outputs": [
    {
     "name": "stdout",
     "output_type": "stream",
     "text": [
      ", , 1\n",
      "\n",
      "     [,1] [,2] [,3]\n",
      "[1,]    1    4   51\n",
      "[2,]    2    5   52\n",
      "[3,]    3   50   53\n",
      "\n",
      ", , 2\n",
      "\n",
      "     [,1] [,2] [,3]\n",
      "[1,]   54   57   60\n",
      "[2,]   55   58    1\n",
      "[3,]   56   59    2\n",
      "\n",
      "[1] 55 58  1\n",
      "[1] 53\n"
     ]
    }
   ],
   "source": [
    "vec41 <- c(1:5)\n",
    "vec42 <- c(50:60)\n",
    "mat_4 <- array(c(vec41, vec42), dim = c(3, 3, 2))\n",
    "print(mat_4)\n",
    "print(mat_4[2, , 2])\n",
    "print(mat_4[3, 3, 1])"
   ]
  },
  {
   "cell_type": "markdown",
   "metadata": {},
   "source": [
    "5. Write a R program to combine three arrays so that the first row of the first array is followed by the first row of the second array and then first row of the third array."
   ]
  },
  {
   "cell_type": "code",
   "execution_count": 30,
   "metadata": {
    "vscode": {
     "languageId": "r"
    }
   },
   "outputs": [
    {
     "name": "stdout",
     "output_type": "stream",
     "text": [
      "      [,1] [,2] [,3]\n",
      " [1,]    1    4    7\n",
      " [2,]   10   13   16\n",
      " [3,]   20   23   26\n",
      " [4,]    2    5    8\n",
      " [5,]   11   14   17\n",
      " [6,]   21   24   27\n",
      " [7,]    3    6    9\n",
      " [8,]   12   15   18\n",
      " [9,]   22   25   28\n",
      "     [,1] [,2] [,3] [,4] [,5] [,6] [,7] [,8] [,9]\n",
      "[1,]    1    2    3   10   11   12   20   21   22\n",
      "[2,]    4    5    6   13   14   15   23   24   25\n",
      "[3,]    7    8    9   16   17   18   26   27   28\n"
     ]
    }
   ],
   "source": [
    "mat5_1 <- matrix(c(1:9), 3, 3)\n",
    "mat5_2 <- matrix(c(10:18), 3, 3)\n",
    "mat5_3 <- matrix(c(20:28), 3, 3)\n",
    "mat_5 <- t(rbind(mat5_1, mat5_2, mat5_3))\n",
    "b <- matrix(t(cbind(mat5_1, mat5_2, mat5_3)), ncol = 3, byrow = T)\n",
    "print(b)\n",
    "print(mat_5)"
   ]
  },
  {
   "cell_type": "code",
   "execution_count": null,
   "metadata": {
    "vscode": {
     "languageId": "r"
    }
   },
   "outputs": [],
   "source": [
    "# Link to reference or additional information\n",
    "# https://bit.ly/2QkvW10\n",
    "\n",
    "# Create the first array 'num1' with rows \"A\", \"B\", and \"C\", each repeated 3 times\n",
    "num1 = rbind(rep(\"A\",3), rep(\"B\",3), rep(\"C\",3))\n",
    "\n",
    "# Print a label for 'num1'\n",
    "print(\"num1\")\n",
    "\n",
    "# Print the content of 'num1'\n",
    "print(num1)\n",
    "\n",
    "# Create the second array 'num2' with rows \"P\", \"Q\", and \"R\", each repeated 3 times\n",
    "num2 = rbind(rep(\"P\",3), rep(\"Q\",3), rep(\"R\",3))\n",
    "\n",
    "# Print a label for 'num2'\n",
    "print(\"num2\")\n",
    "\n",
    "# Print the content of 'num2'\n",
    "print(num2)\n",
    "\n",
    "# Create the third array 'num3' with rows \"X\", \"Y\", and \"Z\", each repeated 3 times\n",
    "num3 = rbind(rep(\"X\",3), rep(\"Y\",3), rep(\"Z\",3))\n",
    "\n",
    "# Print a label for 'num3'\n",
    "print(\"num3\")\n",
    "\n",
    "# Print the content of 'num3'\n",
    "print(num3)\n",
    "\n",
    "# Combine the three arrays by first combining them column-wise, then transposing, and converting to a matrix with 3 columns\n",
    "a = matrix(t(cbind(num1,num2,num3)), ncol=3, byrow=T)\n",
    "\n",
    "# Print a label for the combined array\n",
    "print(\"Combine three arrays, taking one row from each one by one:\")\n",
    "\n",
    "# Print the combined array\n",
    "print(a)\n"
   ]
  },
  {
   "cell_type": "markdown",
   "metadata": {},
   "source": [
    "6. Write a R program to create an array using four given columns, three given rows, and two given tables and display the content of the array."
   ]
  },
  {
   "cell_type": "code",
   "execution_count": 31,
   "metadata": {
    "vscode": {
     "languageId": "r"
    }
   },
   "outputs": [
    {
     "name": "stdout",
     "output_type": "stream",
     "text": [
      ", , 1\n",
      "\n",
      "     [,1] [,2] [,3] [,4]\n",
      "[1,]    1    4    7   10\n",
      "[2,]    2    5    8   11\n",
      "[3,]    3    6    9   12\n",
      "\n",
      ", , 2\n",
      "\n",
      "     [,1] [,2] [,3] [,4]\n",
      "[1,]   13   16   19   22\n",
      "[2,]   14   17   20   23\n",
      "[3,]   15   18   21   24\n",
      "\n"
     ]
    }
   ],
   "source": [
    "# Create a 3-dimensional array with values from 1 to 30\n",
    "# The array has dimensions 3 rows, 4 columns, and 2 matrices (tables)\n",
    "array6 <- array(1:30, dim = c(3, 4, 2))\n",
    "\n",
    "# Print the content of the 3-dimensional array to the console\n",
    "print(array6)\n"
   ]
  },
  {
   "cell_type": "markdown",
   "metadata": {},
   "source": [
    "7. Write a R program to create a two-dimensional 5x3 array of sequence of even integers greater than 50."
   ]
  },
  {
   "cell_type": "code",
   "execution_count": 36,
   "metadata": {
    "vscode": {
     "languageId": "r"
    }
   },
   "outputs": [
    {
     "name": "stdout",
     "output_type": "stream",
     "text": [
      ", , 1\n",
      "\n",
      "     [,1] [,2] [,3]\n",
      "[1,]   50   60   70\n",
      "[2,]   52   62   72\n",
      "[3,]   54   64   74\n",
      "[4,]   56   66   76\n",
      "[5,]   58   68   78\n",
      "\n",
      ", , 2\n",
      "\n",
      "     [,1] [,2] [,3]\n",
      "[1,]   80   90  100\n",
      "[2,]   82   92  102\n",
      "[3,]   84   94  104\n",
      "[4,]   86   96  106\n",
      "[5,]   88   98  108\n",
      "\n"
     ]
    }
   ],
   "source": [
    "array7 <- array(seq(from = 50, length.out = 30, by = 2), dim = c(5, 3, 2))\n",
    "print(array7)"
   ]
  }
 ],
 "metadata": {
  "kernelspec": {
   "display_name": "R",
   "language": "R",
   "name": "ir"
  },
  "language_info": {
   "codemirror_mode": "r",
   "file_extension": ".r",
   "mimetype": "text/x-r-source",
   "name": "R",
   "pygments_lexer": "r",
   "version": "4.4.1"
  }
 },
 "nbformat": 4,
 "nbformat_minor": 2
}
