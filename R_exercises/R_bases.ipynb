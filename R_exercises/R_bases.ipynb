{
 "cells": [
  {
   "cell_type": "code",
   "execution_count": 1,
   "metadata": {
    "vscode": {
     "languageId": "r"
    }
   },
   "outputs": [
    {
     "name": "stdout",
     "output_type": "stream",
     "text": [
      "[1] \"My name is olha and I am 5 years old.\"\n",
      "[1] \"R version 4.4.1 (2024-06-14 ucrt)\"\n"
     ]
    }
   ],
   "source": [
    "#  Write a R program to take input from the user (name and age)\n",
    "#   and display the values. Also print the version of R installation.\n",
    "# Read name from user input\n",
    "name <- readline(prompt = \"Input your name: \")\n",
    "\n",
    "# Read age from user input\n",
    "age <- readline(prompt = \"Input your age: \")\n",
    "\n",
    "# Print the formatted output\n",
    "print(paste(\"My name is\", name, \"and I am\", age, \"years old.\"))\n",
    "\n",
    "# Print the R version string\n",
    "print(R.version.string)"
   ]
  },
  {
   "cell_type": "code",
   "execution_count": 2,
   "metadata": {
    "vscode": {
     "languageId": "r"
    }
   },
   "outputs": [
    {
     "name": "stdout",
     "output_type": "stream",
     "text": [
      "[1] \"age\"  \"n1\"   \"n2\"   \"name\" \"nums\"\n",
      "[1] \"Details of the objects in memory:\"\n",
      "age :  chr \"5\"\n",
      "n1 :  num 10\n",
      "n2 :  num 0.5\n",
      "name :  chr \"Python\"\n",
      "nums :  num [1:6] 10 20 30 40 50 60\n"
     ]
    }
   ],
   "source": [
    "# Write a R program to get the details of the objects in memory.\n",
    "# Assign the string \"Python\" to the variable `name`\n",
    "name = \"Python\"\n",
    "\n",
    "# Assign the integer value 10 to the variable `n1`\n",
    "n1 =  10\n",
    "\n",
    "# Assign the numeric value 0.5 to the variable `n2`\n",
    "n2 =  0.5\n",
    "\n",
    "# Create a vector `nums` containing the numbers 10, 20, 30, 40, 50, 60\n",
    "nums = c(10, 20, 30, 40, 50, 60)\n",
    "\n",
    "# Print the names of all objects currently in the environment\n",
    "print(ls())\n",
    "\n",
    "# Print a message indicating that details of the objects in memory will be shown\n",
    "print(\"Details of the objects in memory:\")\n",
    "\n",
    "# Print a detailed list of all objects in memory, including their structure\n",
    "print(ls.str())"
   ]
  },
  {
   "cell_type": "code",
   "execution_count": 3,
   "metadata": {
    "vscode": {
     "languageId": "r"
    }
   },
   "outputs": [
    {
     "name": "stdout",
     "output_type": "stream",
     "text": [
      " [1] 20 21 22 23 24 25 26 27 28 29 30 31 32 33 34 35 36 37 38 39 40 41 42 43 44\n",
      "[26] 45 46 47 48 49 50\n",
      "[1] 40\n",
      "[1] 2911\n"
     ]
    }
   ],
   "source": [
    "# Write a R program to create a sequence of numbers from 20 to 50\n",
    "#  and find the mean of numbers from 20 to 60 and sum of numbers from 51 to 91.\n",
    "seqen <- (20:50)\n",
    "print(seqen)\n",
    "mean_numb = mean(20:60)\n",
    "sum_number = sum(51:91)\n",
    "print(mean_numb)\n",
    "print(sum_number)\n",
    "\n",
    "\n",
    "# # Print a message indicating that the sequence of numbers from 20 to 50 will be shown\n",
    "# print(\"Sequence of numbers from 20 to 50:\")\n",
    "\n",
    "# # Generate and print a sequence of numbers from 20 to 50\n",
    "# print(seq(20,50))\n",
    "\n",
    "# # Print a message indicating that the mean of numbers from 20 to 60 will be shown\n",
    "# print(\"Mean of numbers from 20 to 60:\")\n",
    "\n",
    "# # Calculate and print the mean of numbers from 20 to 60\n",
    "# print(mean(20:60))\n",
    "\n",
    "# # Print a message indicating that the sum of numbers from 51 to 91 will be shown\n",
    "# print(\"Sum of numbers from 51 to 91:\")\n",
    "\n",
    "# # Calculate and print the sum of numbers from 51 to 91\n",
    "# print(sum(51:91))"
   ]
  },
  {
   "cell_type": "code",
   "execution_count": 4,
   "metadata": {
    "vscode": {
     "languageId": "r"
    }
   },
   "outputs": [
    {
     "name": "stdout",
     "output_type": "stream",
     "text": [
      "[1] \"Content of the vector:\"\n",
      "[1] \"10 random integer values between -50 and +50:\"\n",
      " [1]  15  39  37 -45 -36   9   5   7 -14   7\n"
     ]
    }
   ],
   "source": [
    "# Write a R program to create a vector which contains 10\n",
    "#  random integer values between -50 and +50.\n",
    "# Generate a vector 'v' with 10 random integer values between -50 and +50\n",
    "# The 'replace=TRUE' parameter allows sampling with replacement\n",
    "# The replace=TRUE argument allows for repeated values.\n",
    "v = sample(-50:50, 10, replace=TRUE)\n",
    "\n",
    "# Print a message indicating that the content of the vector will be shown\n",
    "print(\"Content of the vector:\")\n",
    "\n",
    "# Print a message specifying that 10 random integer values between -50 and +50 will be shown\n",
    "print(\"10 random integer values between -50 and +50:\")\n",
    "\n",
    "# Print the vector 'v' to display the random integer values\n",
    "print(v)\n"
   ]
  },
  {
   "cell_type": "code",
   "execution_count": 5,
   "metadata": {
    "vscode": {
     "languageId": "r"
    }
   },
   "outputs": [
    {
     "name": "stdout",
     "output_type": "stream",
     "text": [
      " [1]  1  1  2  3  5  8 13 21 34 55\n"
     ]
    }
   ],
   "source": [
    "# Write a R program to get the first 10 Fibonacci numbers.\n",
    "Fibonacci <- numeric(10)\n",
    "Fibonacci[2] <- Fibonacci[1] <- 1\n",
    "for (i in 3:10) Fibonacci[i] <- Fibonacci[i - 2] + Fibonacci[i - 1]\n",
    "print(Fibonacci)\n"
   ]
  },
  {
   "cell_type": "code",
   "execution_count": 6,
   "metadata": {
    "vscode": {
     "languageId": "r"
    }
   },
   "outputs": [
    {
     "name": "stdout",
     "output_type": "stream",
     "text": [
      "[1]  2  3  5  7 11 13 17 19\n"
     ]
    }
   ],
   "source": [
    "# Write a R program to get all prime numbers up to a given number \n",
    "#(based on the sieve of Eratosthenes).\n",
    "\n",
    "\n",
    "# Define a function 'prime_numbers' that takes a single argument 'n'\n",
    "prime_numbers <- function(n) {\n",
    "\n",
    "  # Check if 'n' is greater than or equal to 2\n",
    "  if (n >= 2) {\n",
    "    \n",
    "    # Create a sequence from 2 to 'n'\n",
    "    x = seq(2, n)\n",
    "    \n",
    "    # Initialize an empty vector to store prime numbers\n",
    "    prime_nums = c()\n",
    "    \n",
    "    # Loop through each number in the sequence from 2 to 'n'\n",
    "    for (i in seq(2, n)) {\n",
    "      \n",
    "      # Check if 'i' is in the sequence 'x'\n",
    "      if (any(x == i)) {\n",
    "        \n",
    "        # Add 'i' to the 'prime_nums' vector\n",
    "        prime_nums = c(prime_nums, i)\n",
    "        \n",
    "        # Remove multiples of 'i' from the sequence 'x'\n",
    "        x = c(x[(x %% i) != 0], i)\n",
    "      }\n",
    "    }\n",
    "    \n",
    "    # Return the vector of prime numbers\n",
    "    return(prime_nums)\n",
    "  }\n",
    "  else {\n",
    "    # Stop the function execution and display an error message if 'n' is less than 2\n",
    "    stop(\"Input number should be at least 2.\")\n",
    "  }\n",
    "} \n",
    "\n",
    "# Call the 'prime_numbers' function with an argument of 12\n",
    "print(prime_numbers(20))\n"
   ]
  },
  {
   "cell_type": "code",
   "execution_count": null,
   "metadata": {
    "vscode": {
     "languageId": "r"
    }
   },
   "outputs": [],
   "source": [
    "# Write a R program to print the numbers from 1 to 100 and print \"Fizz\" \n",
    "#  for multiples of 3, print \"Buzz\" for multiples of 5,\n",
    "#  and print \"FizzBuzz\" for multiples of both.\n",
    "number <- 1:100\n",
    "for (i in number) {\n",
    "    if (i %% 3 == 0 & i %% 5 == 0) {\n",
    "        print(paste(i, \"FizzBuzz\"))\n",
    "    } else if (i %% 3 == 0) {\n",
    "        print(paste(i, \"Fizz\"))\n",
    "    } else if (i %% 5 == 0) {\n",
    "        print(paste(i, \"Buzz\"))\n",
    "    }\n",
    "}"
   ]
  },
  {
   "cell_type": "code",
   "execution_count": 7,
   "metadata": {
    "vscode": {
     "languageId": "r"
    }
   },
   "outputs": [
    {
     "name": "stdout",
     "output_type": "stream",
     "text": [
      "[1] \"First 10 letters in lower case:\"\n",
      " [1] \"a\" \"b\" \"c\" \"d\" \"e\" \"f\" \"g\" \"h\" \"i\" \"j\"\n",
      "[1] \"Last 10 letters in upper case:\"\n",
      " [1] \"Q\" \"R\" \"S\" \"T\" \"U\" \"V\" \"W\" \"X\" \"Y\" \"Z\"\n",
      "[1] \"Letters between 22nd to 24th letters in upper case:\"\n",
      "[1] \"V\" \"W\" \"X\"\n"
     ]
    }
   ],
   "source": [
    "#  Write a R program to extract first 10 english letter in lower case\n",
    "#   and last 10 letters in upper case\n",
    "#    and extract letters between 22nd to 24th letters in upper case.\n",
    "\n",
    "\n",
    "# Print a message indicating the first 10 letters in lower case\n",
    "print(\"First 10 letters in lower case:\")\n",
    "\n",
    "# Get the first 10 letters of the alphabet in lower case\n",
    "t = head(letters, 10)\n",
    "\n",
    "# Print the first 10 letters in lower case\n",
    "print(t)\n",
    "\n",
    "# Print a message indicating the last 10 letters in upper case\n",
    "print(\"Last 10 letters in upper case:\")\n",
    "\n",
    "# Get the last 10 letters of the alphabet in upper case\n",
    "t = tail(LETTERS, 10)\n",
    "\n",
    "# Print the last 10 letters in upper case\n",
    "print(t)\n",
    "\n",
    "# Print a message indicating the letters between the 22nd and 24th in upper case\n",
    "print(\"Letters between 22nd to 24th letters in upper case:\")\n",
    "\n",
    "# Get the letters between the 22nd and 24th positions in upper case\n",
    "e = tail(LETTERS[22:24])\n",
    "\n",
    "# Print the letters between the 22nd and 24th positions in upper case\n",
    "print(e)\n"
   ]
  },
  {
   "cell_type": "code",
   "execution_count": 8,
   "metadata": {
    "vscode": {
     "languageId": "r"
    }
   },
   "outputs": [
    {
     "name": "stdout",
     "output_type": "stream",
     "text": [
      "[1]  1  3 19 57\n"
     ]
    }
   ],
   "source": [
    "# Write a R program to find the factors of a given number.\n",
    "\n",
    "factor_numbers <- function(n) {\n",
    "    fact_nums = c(1,n)\n",
    "    for (i in seq(2, n-1)) {\n",
    "        if (n %% i == 0) {\n",
    "            fact_nums = c(fact_nums, i)\n",
    "        }\n",
    "    }\n",
    "    return(sort(fact_nums))\n",
    "}\n",
    "print(factor_numbers(57))"
   ]
  },
  {
   "cell_type": "code",
   "execution_count": 9,
   "metadata": {
    "vscode": {
     "languageId": "r"
    }
   },
   "outputs": [
    {
     "name": "stdout",
     "output_type": "stream",
     "text": [
      "[1] 75\n",
      "[1] 2\n"
     ]
    }
   ],
   "source": [
    "#  Write a R program to find the maximum and the minimum value of a given vector.\n",
    "numb <- c(10, 15, 20, 75, 2)\n",
    "print(max(numb))\n",
    "print(min(numb))"
   ]
  },
  {
   "cell_type": "code",
   "execution_count": 10,
   "metadata": {
    "vscode": {
     "languageId": "r"
    }
   },
   "outputs": [
    {
     "name": "stdout",
     "output_type": "stream",
     "text": [
      "[1] \"Original vector(string)\"\n",
      "[1] \"The quick brown fox jumps over the lazy dog.\"\n",
      "[1] \"Unique elements of the said vector:\"\n",
      "[1] \"the quick brown fox jumps over the lazy dog.\"\n",
      "[1] \"Original vector(number)\"\n",
      "[1] 1 2 2 3 4 4 5 6\n",
      "[1] \"Unique elements of the said vector:\"\n",
      "[1] 1 2 3 4 5 6\n"
     ]
    }
   ],
   "source": [
    "# Write a R program to get the unique elements\n",
    "#  of a given string and unique numbers of vector.\n",
    "# Assign a string to the variable str1\n",
    "str1 = \"The quick brown fox jumps over the lazy dog.\"\n",
    "\n",
    "# Print a message indicating that the following output is the original string\n",
    "print(\"Original vector(string)\")\n",
    "\n",
    "# Print the content of the string\n",
    "print(str1)\n",
    "\n",
    "# Print a message indicating that the following output will show unique elements of the string\n",
    "print(\"Unique elements of the said vector:\")\n",
    "\n",
    "# Convert the string to lowercase and print unique characters\n",
    "print(unique(tolower(str1)))\n",
    "\n",
    "# Create a vector of numbers with some duplicates\n",
    "nums = c(1, 2, 2, 3, 4, 4, 5, 6)\n",
    "\n",
    "# Print a message indicating that the following output is the original number vector\n",
    "print(\"Original vector(number)\")\n",
    "\n",
    "# Print the content of the number vector\n",
    "print(nums)\n",
    "\n",
    "# Print a message indicating that the following output will show unique elements of the number vector\n",
    "print(\"Unique elements of the said vector:\")\n",
    "\n",
    "# Print unique numbers from the vector\n",
    "print(unique(nums))\n"
   ]
  },
  {
   "cell_type": "code",
   "execution_count": 11,
   "metadata": {
    "vscode": {
     "languageId": "r"
    }
   },
   "outputs": [
    {
     "name": "stdout",
     "output_type": "stream",
     "text": [
      "     a b  c\n",
      "[1,] 1 5 10\n",
      "[2,] 2 7  1\n",
      "[3,] 3 9  0\n"
     ]
    }
   ],
   "source": [
    "# Write a R program to create three vectors a,b,c with 3 integers. \n",
    "# Combine the three vectors to become a 3×3 matrix where each column represents a vector.\n",
    "# Print the content of the matrix.\n",
    "a <- c(1, 2 ,3)\n",
    "b <- c(5, 7, 9)\n",
    "c <- c(10, 1, 0)\n",
    "k <- cbind(a, b, c)\n",
    "print(k)"
   ]
  },
  {
   "cell_type": "code",
   "execution_count": 12,
   "metadata": {
    "vscode": {
     "languageId": "r"
    }
   },
   "outputs": [
    {
     "name": "stdout",
     "output_type": "stream",
     "text": [
      "[1] \"List of random numbers in normal distribution:\"\n",
      "   [1]  128   74   73   91  -72  141  139  -40  128 -157  -21   -8  115    5\n",
      "  [15]  138  228   12  145  112  -20   48  131   51  -88   29   -1  166  239\n",
      "  [29]  273  -69    6  238  151  -18  -43  -25  254  -19 -147  218   61   14\n",
      "  [43]   78  168  -87  -63  208   63   56   54   80   65  151  241  -25   80\n",
      "  [57]  -33   36  137  203  183   61   -4  104 -169  120   15  122 -177  192\n",
      "  [71]  -26   17   11  -80 -112  136  -22  -26  -51  151  162  -92    3  186\n",
      "  [85]   63  -56   85  112  146  114   77  114   24  172  -84  -13   99 -139\n",
      "  [99]   37   95  -22  243  152   98  143    6   -3 -148   36 -121 -202  -17\n",
      " [113]   22    0  -46   85  -20  -12  138   48 -197  -94    0  -38   -1   57\n",
      " [127]   73  -87   26  109   -8   88  -99 -109  -41  -52   60  171   98   25\n",
      " [141]    2  -35   52 -121   43  100  -56    3   74   82  219   33   73 -136\n",
      " [155]   59   89   52 -154   16   31  118    1  -81  116   -2   71  176   61\n",
      " [169]   79  110  -65   -8  -15   30   10  -69   51  178   81  193  221  -18\n",
      " [183]  131  -88  107   32  133  -14 -123  134  258   42   50  185 -272  103\n",
      " [197]  335  110   76  122   55   16   13   69  105  -62  185  -10  252   17\n",
      " [211]  -80  -48   22   32   18   65    0  -45  115   27  157  -36  201   95\n",
      " [225]  114   58   23   27 -101   38   78 -109  138  -11  125   89  165 -124\n",
      " [239]  150  -20   42 -174  110 -122   92  166  181  217  112   43  125   -4\n",
      " [253]  103  -41   -4   92  177  136  -79   65  224  150  190   12 -126  152\n",
      " [267]   26   28  240  -94  -36   -1  102   -3  132   37  -33  122  169  -24\n",
      " [281] -249   27   24    9  -36  120    2 -147  109   45   76    9 -109    9\n",
      " [295] -157  -21   37  118  122  202  145  -14  -99   -3   66  245   66   90\n",
      " [309]   51   -8   91  145 -126 -157  -12   64  125  -51   60 -305   29  209\n",
      " [323]  116   19  -78   43   86   96   33   61   92   63   68 -126  150  154\n",
      " [337]  280   79  -17   40  -11   96  222  -13  109  129   34  -10   22   68\n",
      " [351]    6  -11  -31   48  226   69   75  -40  220   91  100  190  -20  200\n",
      " [365]    1   86  134   58   62   66  171  144   71  -42   -4   17  138  -18\n",
      " [379]  -40   26    3  154   96   71  -51   20   97  112    2   11  156  104\n",
      " [393]  -10   -5  -69   54  101  162  -29   74   39  -57 -113   29  -11  173\n",
      " [407]  156  -78  129    2  284  121  107  -73  117  -81   56   22  144   48\n",
      " [421]    3  117   27 -140   71   68  117   17  -52   57  -62  131   -5   27\n",
      " [435]  -22    9   92  133  121    1  129  139  115   86   93   59  -66   88\n",
      " [449]   37  -10   49  106  199  118   64   17   67   55   46  -20   94   86\n",
      " [463]   -8   51  145   65  -79   54  -23  171    4   98  -25    3   96  -38\n",
      " [477]    1   96  106   44  221   70  -55   78   89  -75  -77  142   34  176\n",
      " [491] -128  110  115   83  199  107  216  146  183   58  -70  -48  109  128\n",
      " [505]  124  -54  -36  -96   23  -25    7  121  117  113  -37  -56 -115   43\n",
      " [519]   35  217  -64  181 -188  123   84  -58   84   -7   78   55  134  -45\n",
      " [533]  121  -52  103   11  179  187  -93  150  175   44   83  196  242   -2\n",
      " [547]  147  178   66  -43   40   28 -143   66  179  -43  222  117  130  166\n",
      " [561] -101   44  227  168   91    4  127   55   77   11    8  -50   -2  -93\n",
      " [575]  -39 -164   -3  188  309  -15  264   89  -38  123   42  115  106   51\n",
      " [589]  -47  -48   63  242  145  149   93  -42  139   -1  123   -9  157 -133\n",
      " [603]  -41 -161  -69   23    8   74  134  -78   17  -14  -72  -68  238  147\n",
      " [617]  148   60  164  170   17  116   28  129   84 -100  -47   27  214  116\n",
      " [631]  -44  169   13  -27  188  132   40   11    9  132  156   72   40  113\n",
      " [645]  231 -159  176   46   46   89   44  121   68  163  114   15  115   46\n",
      " [659]  -98  113 -232  129  127  -12 -151  145   15  156   63   21  -25   16\n",
      " [673]  101   52   42  159  231  151   58  160   33    7  -17  125   70   16\n",
      " [687]   -9  175  177    2  120   22  174   67   27  -65  -23  239  -16   14\n",
      " [701]   33 -126  -29  263   53  -31   75   12  -27  165  -79  -16   19  -26\n",
      " [715]   83  121   53  172  -69 -128   48  120  106   30   25  159  169   70\n",
      " [729]   83  120  145   93  210  -18  227  324  142  -24  -53   67  128   61\n",
      " [743]  108   86   77   -5  158  130  125   82 -174  -24  101   53   67   68\n",
      " [757]   79  152   -2   87   74   -3  117  -52   85   78  151   36   82  -38\n",
      " [771] -238  122   33   20  -36  214   57  103   78   55  -97  143   87  130\n",
      " [785]  194   53  288  -80  154    2   14  102  -35  -54  153  119   70  184\n",
      " [799]  110   82   43  121   42   45  110  170  -15    5  -91   30  127  117\n",
      " [813]  162   63  -45   69   38   86 -122   67   97  -31  -58  163 -104   42\n",
      " [827]  192  206   18   20  -64  168   48  160   43  145  106   -7   53 -119\n",
      " [841]  117  134   11   94   -3   95  -32  113  129   94   49  202  147   62\n",
      " [855]  -24   41  103  134  236   78   27  107  158  217  -28   77   -2    9\n",
      " [869]   68  135  -66   43   22  172   48   88  111 -150   64  162 -125  -44\n",
      " [883]   49  119   69   43   67   16  122  -62   77    1   -4  180   77  -25\n",
      " [897] -153 -129   31   38   62  -31   38  105  132 -112   16   23  130  103\n",
      " [911]   -1  -50  147  -39  -51  -86  220  -48  163  110  100  -14    5   22\n",
      " [925]   39   42  -80  134   18  254   -1  177   19   -6   14  -29   31   -6\n",
      " [939]   -3   38   57  -91  -29  -81   16 -148   17  194    6  -61  224   30\n",
      " [953]  176   66  139  232   84   14  -78   36  -43 -165  134  148  -71  -54\n",
      " [967]  209   19  144   46   39   53   48   75   38   20   12   34  -23  -50\n",
      " [981]   87  184  -61  123   82  -85   10  124   16  104   79  -38  160  -63\n",
      " [995]  -46  -50  122  -12   37   10\n",
      "[1] \"Count occurrences of each value:\"\n",
      "n\n",
      "-305 -272 -249 -238 -232 -202 -197 -188 -177 -174 -169 -165 -164 -161 -159 -157 \n",
      "   1    1    1    1    1    1    1    1    1    2    1    1    1    1    1    3 \n",
      "-154 -153 -151 -150 -148 -147 -143 -140 -139 -136 -133 -129 -128 -126 -125 -124 \n",
      "   1    1    1    1    2    2    1    1    1    1    1    1    2    4    1    1 \n",
      "-123 -122 -121 -119 -115 -113 -112 -109 -104 -101 -100  -99  -98  -97  -96  -94 \n",
      "   1    2    2    1    1    1    2    3    1    2    1    2    1    1    1    2 \n",
      " -93  -92  -91  -88  -87  -86  -85  -84  -81  -80  -79  -78  -77  -75  -73  -72 \n",
      "   2    1    2    2    2    1    1    1    3    4    3    4    1    1    1    2 \n",
      " -71  -70  -69  -68  -66  -65  -64  -63  -62  -61  -58  -57  -56  -55  -54  -53 \n",
      "   1    1    5    1    2    2    2    2    3    2    2    1    3    1    3    1 \n",
      " -52  -51  -50  -48  -47  -46  -45  -44  -43  -42  -41  -40  -39  -38  -37  -36 \n",
      "   4    4    4    4    2    2    3    2    4    2    3    3    2    5    1    5 \n",
      " -35  -33  -32  -31  -29  -28  -27  -26  -25  -24  -23  -22  -21  -20  -19  -18 \n",
      "   2    2    1    4    4    1    2    3    6    4    3    3    2    5    1    4 \n",
      " -17  -16  -15  -14  -13  -12  -11  -10   -9   -8   -7   -6   -5   -4   -3   -2 \n",
      "   3    2    3    4    2    4    4    4    2    5    2    2    3    5    7    5 \n",
      "  -1    0    1    2    3    4    5    6    7    8    9   10   11   12   13   14 \n",
      "   6    3    5    6    5    2    3    4    2    2    6    3    6    4    2    5 \n",
      "  15   16   17   18   19   20   21   22   23   24   25   26   27   28   29   30 \n",
      "   3    8    8    3    4    4    1    7    4    2    2    3    8    3    3    4 \n",
      "  31   32   33   34   35   36   37   38   39   40   41   42   43   44   45   46 \n",
      "   3    2    5    3    1    4    5    6    3    4    1    7    8    4    2    5 \n",
      "  48   49   50   51   52   53   54   55   56   57   58   59   60   61   62   63 \n",
      "   8    3    1    5    3    6    3    5    2    4    4    2    3    5    3    6 \n",
      "  64   65   66   67   68   69   70   71   72   73   74   75   76   77   78   79 \n",
      "   3    4    6    6    6    4    4    4    1    3    5    3    2    6    7    4 \n",
      "  80   81   82   83   84   85   86   87   88   89   90   91   92   93   94   95 \n",
      "   2    1    5    4    4    3    6    3    3    5    1    4    4    3    3    3 \n",
      "  96   97   98   99  100  101  102  103  104  105  106  107  108  109  110  111 \n",
      "   5    2    3    1    3    3    2    6    3    2    5    4    1    4    7    1 \n",
      " 112  113  114  115  116  117  118  119  120  121  122  123  124  125  127  128 \n",
      "   4    4    4    6    4    8    3    2    5    7    7    4    2    5    3    4 \n",
      " 129  130  131  132  133  134  135  136  137  138  139  141  142  143  144  145 \n",
      "   6    4    3    4    2    8    1    2    1    4    4    1    2    2    3    8 \n",
      " 146  147  148  149  150  151  152  153  154  156  157  158  159  160  162  163 \n",
      "   2    4    2    1    4    5    3    1    3    4    2    2    2    3    4    3 \n",
      " 164  165  166  168  169  170  171  172  173  174  175  176  177  178  179  180 \n",
      "   1    2    3    3    3    2    3    3    1    1    2    4    3    2    2    1 \n",
      " 181  183  184  185  186  187  188  190  192  193  194  196  199  200  201  202 \n",
      "   2    2    2    2    1    1    2    2    2    1    2    1    2    1    1    2 \n",
      " 203  206  208  209  210  214  216  217  218  219  220  221  222  224  226  227 \n",
      "   1    1    1    2    1    2    1    3    1    1    2    2    2    2    1    2 \n",
      " 228  231  232  236  238  239  240  241  242  243  245  252  254  258  263  264 \n",
      "   1    2    1    1    2    2    1    1    2    1    1    1    2    1    1    1 \n",
      " 273  280  284  288  309  324  335 \n",
      "   1    1    1    1    1    1    1 \n"
     ]
    }
   ],
   "source": [
    "# Write a R program to create a list of random numbers\n",
    "#  in normal distribution and count occurrences of each value.\n",
    "\n",
    "# Generate 1000 random numbers from a normal distribution with mean 50 \n",
    "# and standard deviation 100, and round them down to the nearest integer\n",
    "n = floor(rnorm(1000, 50, 100))\n",
    "\n",
    "# Print a message indicating that the following output is a list of random numbers\n",
    "print('List of random numbers in normal distribution:')\n",
    "\n",
    "# Print the generated random numbers\n",
    "print(n)\n",
    "\n",
    "# Create a frequency table of the occurrences of each unique value in 'n'\n",
    "t = table(n)\n",
    "\n",
    "# Print a message indicating that the following output is \n",
    "# the count of occurrences of each value\n",
    "print(\"Count occurrences of each value:\")\n",
    "\n",
    "# Print the frequency table\n",
    "print(t)\n"
   ]
  },
  {
   "cell_type": "code",
   "execution_count": 16,
   "metadata": {
    "vscode": {
     "languageId": "r"
    }
   },
   "outputs": [
    {
     "name": "stdout",
     "output_type": "stream",
     "text": [
      "[1] \"Content of the .csv file:\"\n",
      "   adult\n",
      "1  False\n",
      "2  False\n",
      "3  False\n",
      "4  False\n",
      "5  False\n",
      "6  False\n",
      "7  False\n",
      "8  False\n",
      "9  False\n",
      "10 False\n",
      "                                                                                                                                             belongs_to_collection\n",
      "1            {'id': 10194, 'name': 'Toy Story Collection', 'poster_path': '/7G9915LfUQ2lVfwMEEhDsn3kT4B.jpg', 'backdrop_path': '/9FBwqcd9IRruEDUrTdcaafOMKUq.jpg'}\n",
      "2                                                                                                                                                                 \n",
      "3      {'id': 119050, 'name': 'Grumpy Old Men Collection', 'poster_path': '/nLvUdqgPgm3F85NMCii9gVFUcet.jpg', 'backdrop_path': '/hypTnLot2z8wpFS7qwsQHW1uV8u.jpg'}\n",
      "4                                                                                                                                                                 \n",
      "5  {'id': 96871, 'name': 'Father of the Bride Collection', 'poster_path': '/nts4iOmNnq7GNicycMJ9pSAn204.jpg', 'backdrop_path': '/7qwE57OVZmMJChBpLEbJEmzUydk.jpg'}\n",
      "6                                                                                                                                                                 \n",
      "7                                                                                                                                                                 \n",
      "8                                                                                                                                                                 \n",
      "9                                                                                                                                                                 \n",
      "10             {'id': 645, 'name': 'James Bond Collection', 'poster_path': '/HORpg5CSkmeQlAolx3bKMrKgfi.jpg', 'backdrop_path': '/6VcVl48kNKvdXOZfJPdarlUGOsk.jpg'}\n",
      "     budget\n",
      "1  30000000\n",
      "2  65000000\n",
      "3         0\n",
      "4  16000000\n",
      "5         0\n",
      "6  60000000\n",
      "7  58000000\n",
      "8         0\n",
      "9  35000000\n",
      "10 58000000\n",
      "                                                                                                                          genres\n",
      "1                               [{'id': 16, 'name': 'Animation'}, {'id': 35, 'name': 'Comedy'}, {'id': 10751, 'name': 'Family'}]\n",
      "2                              [{'id': 12, 'name': 'Adventure'}, {'id': 14, 'name': 'Fantasy'}, {'id': 10751, 'name': 'Family'}]\n",
      "3                                                               [{'id': 10749, 'name': 'Romance'}, {'id': 35, 'name': 'Comedy'}]\n",
      "4                                  [{'id': 35, 'name': 'Comedy'}, {'id': 18, 'name': 'Drama'}, {'id': 10749, 'name': 'Romance'}]\n",
      "5                                                                                                 [{'id': 35, 'name': 'Comedy'}]\n",
      "6       [{'id': 28, 'name': 'Action'}, {'id': 80, 'name': 'Crime'}, {'id': 18, 'name': 'Drama'}, {'id': 53, 'name': 'Thriller'}]\n",
      "7                                                               [{'id': 35, 'name': 'Comedy'}, {'id': 10749, 'name': 'Romance'}]\n",
      "8  [{'id': 28, 'name': 'Action'}, {'id': 12, 'name': 'Adventure'}, {'id': 18, 'name': 'Drama'}, {'id': 10751, 'name': 'Family'}]\n",
      "9                                [{'id': 28, 'name': 'Action'}, {'id': 12, 'name': 'Adventure'}, {'id': 53, 'name': 'Thriller'}]\n",
      "10                               [{'id': 12, 'name': 'Adventure'}, {'id': 28, 'name': 'Action'}, {'id': 53, 'name': 'Thriller'}]\n",
      "                                       homepage    id   imdb_id\n",
      "1          http://toystory.disney.com/toy-story   862 tt0114709\n",
      "2                                                8844 tt0113497\n",
      "3                                               15602 tt0113228\n",
      "4                                               31357 tt0114885\n",
      "5                                               11862 tt0113041\n",
      "6                                                 949 tt0113277\n",
      "7                                               11860 tt0114319\n",
      "8                                               45325 tt0112302\n",
      "9                                                9091 tt0114576\n",
      "10 http://www.mgm.com/view/movie/757/Goldeneye/   710 tt0113189\n",
      "   original_language              original_title\n",
      "1                 en                   Toy Story\n",
      "2                 en                     Jumanji\n",
      "3                 en            Grumpier Old Men\n",
      "4                 en           Waiting to Exhale\n",
      "5                 en Father of the Bride Part II\n",
      "6                 en                        Heat\n",
      "7                 en                     Sabrina\n",
      "8                 en                Tom and Huck\n",
      "9                 en                Sudden Death\n",
      "10                en                   GoldenEye\n",
      "                                                                                                                                                                                                                                                                                                                                                                                                                                                           overview\n",
      "1                                                                                                                                                   Led by Woody, Andy's toys live happily in his room until Andy's birthday brings Buzz Lightyear onto the scene. Afraid of losing his place in Andy's heart, Woody plots against Buzz. But when circumstances separate Buzz and Woody from their owner, the duo eventually learns to put aside their differences.\n",
      "2                                                       When siblings Judy and Peter discover an enchanted board game that opens the door to a magical world, they unwittingly invite Alan -- an adult who's been trapped inside the game for 26 years -- into their living room. Alan's only hope for freedom is to finish the game, which proves risky as all three find themselves running from giant rhinoceroses, evil monkeys and other terrifying creatures.\n",
      "3                                                                                                                           A family wedding reignites the ancient feud between next-door neighbors and fishing buddies John and Max. Meanwhile, a sultry Italian divorcée opens a restaurant at the local bait shop, alarming the locals who worry she'll scare the fish away. But she's less interested in seafood than she is in cooking up a hot time with Max.\n",
      "4                                                                                                                                                                                    Cheated on, mistreated and stepped on, the women are holding their breath, waiting for the elusive \"good man\" to break a string of less-than-stellar lovers. Friends and confidants Vannah, Bernie, Glo and Robin talk it all out, determined to find a better way to breathe.\n",
      "5                                                                                                                                    Just when George Banks has recovered from his daughter's wedding, he receives the news that she's pregnant ... and that George's wife, Nina, is expecting too. He was planning on selling their home, but that's a plan that -- like George -- will have to change with the arrival of both a grandchild and a kid of his own.\n",
      "6                                                                                                                   Obsessive master thief, Neil McCauley leads a top-notch crew on various insane heists throughout Los Angeles while a mentally unstable detective, Vincent Hanna pursues him without rest. Each man recognizes and respects the ability and the dedication of the other even though they are aware their cat-and-mouse game may end in violence.\n",
      "7                                                                                                                                                                                                                                                                       An ugly duckling having undergone a remarkable change, still harbors feelings for her crush: a carefree playboy, but not before his business-focused brother has something to say about it.\n",
      "8                                                                                                  A mischievous young boy, Tom Sawyer, witnesses a murder by the deadly Injun Joe. Tom becomes friends with Huckleberry Finn, a boy with no future and no family. Tom has to choose between honoring a friendship or honoring an oath because the town alcoholic is accused of the murder. Tom and Huck go through several adventures trying to retrieve evidence.\n",
      "9  International action superstar Jean Claude Van Damme teams with Powers Boothe in a Tension-packed, suspense thriller, set against the back-drop of a Stanley Cup game.Van Damme portrays a father whose daughter is suddenly taken during a championship hockey game. With the captors demanding a billion dollars by game's end, Van Damme frantically sets a plan in motion to rescue his daughter and abort an impending explosion before the final buzzer...\n",
      "10                                                                                                                                                                                                                                                                                  James Bond must unmask the mysterious head of the Janus Syndicate and prevent the leader from utilizing the GoldenEye weapons system to inflict devastating revenge on Britain.\n",
      "   popularity                      poster_path\n",
      "1   21.946943 /rhIRbceoE9lR4veEXuwCC2wARtG.jpg\n",
      "2   17.015539 /vzmL6fP7aPKNKPRTFnZmiUfciyV.jpg\n",
      "3     11.7129 /6ksm1sjKMFLbO7UY2i6G1ju9SML.jpg\n",
      "4    3.859495 /16XOMpEaLWkrcPqSQqhTmeJuqQl.jpg\n",
      "5    8.387519 /e64sOI48hQXyru7naBFyssKFxVd.jpg\n",
      "6   17.924927 /zMyfPUelumio3tiDKPffaUpsQTD.jpg\n",
      "7    6.677277 /jQh15y5YB7bWz1NtffNZmRw0s9D.jpg\n",
      "8    2.561161 /sGO5Qa55p7wTu7FJcX4H4xIVKvS.jpg\n",
      "9     5.23158 /eoWvKD60lT95Ss1MYNgVExpo5iU.jpg\n",
      "10  14.686036 /5c0ovjT41KnYIHYuF4AWsTe3sKh.jpg\n",
      "                                                                                                                                                                                                                                                                                                                    production_companies\n",
      "1                                                                                                                                                                                                                                                                                         [{'name': 'Pixar Animation Studios', 'id': 3}]\n",
      "2                                                                                                                                                                                                    [{'name': 'TriStar Pictures', 'id': 559}, {'name': 'Teitler Film', 'id': 2550}, {'name': 'Interscope Communications', 'id': 10201}]\n",
      "3                                                                                                                                                                                                                                                        [{'name': 'Warner Bros.', 'id': 6194}, {'name': 'Lancaster Gate', 'id': 19464}]\n",
      "4                                                                                                                                                                                                                                                                        [{'name': 'Twentieth Century Fox Film Corporation', 'id': 306}]\n",
      "5                                                                                                                                                                                                                                           [{'name': 'Sandollar Productions', 'id': 5842}, {'name': 'Touchstone Pictures', 'id': 9195}]\n",
      "6                                                                                                                                                                                                                [{'name': 'Regency Enterprises', 'id': 508}, {'name': 'Forward Pass', 'id': 675}, {'name': 'Warner Bros.', 'id': 6194}]\n",
      "7  [{'name': 'Paramount Pictures', 'id': 4}, {'name': 'Scott Rudin Productions', 'id': 258}, {'name': 'Mirage Enterprises', 'id': 932}, {'name': 'Sandollar Productions', 'id': 5842}, {'name': 'Constellation Entertainment', 'id': 14941}, {'name': 'Worldwide', 'id': 55873}, {'name': 'Mont Blanc Entertainment GmbH', 'id': 58079}]\n",
      "8                                                                                                                                                                                                                                                                                            [{'name': 'Walt Disney Pictures', 'id': 2}]\n",
      "9                                                                                                                                                                                          [{'name': 'Universal Pictures', 'id': 33}, {'name': 'Imperial Entertainment', 'id': 21437}, {'name': 'Signature Entertainment', 'id': 23770}]\n",
      "10                                                                                                                                                                                                                                                       [{'name': 'United Artists', 'id': 60}, {'name': 'Eon Productions', 'id': 7576}]\n",
      "                                                                                         production_countries\n",
      "1                                                  [{'iso_3166_1': 'US', 'name': 'United States of America'}]\n",
      "2                                                  [{'iso_3166_1': 'US', 'name': 'United States of America'}]\n",
      "3                                                  [{'iso_3166_1': 'US', 'name': 'United States of America'}]\n",
      "4                                                  [{'iso_3166_1': 'US', 'name': 'United States of America'}]\n",
      "5                                                  [{'iso_3166_1': 'US', 'name': 'United States of America'}]\n",
      "6                                                  [{'iso_3166_1': 'US', 'name': 'United States of America'}]\n",
      "7         [{'iso_3166_1': 'DE', 'name': 'Germany'}, {'iso_3166_1': 'US', 'name': 'United States of America'}]\n",
      "8                                                  [{'iso_3166_1': 'US', 'name': 'United States of America'}]\n",
      "9                                                  [{'iso_3166_1': 'US', 'name': 'United States of America'}]\n",
      "10 [{'iso_3166_1': 'GB', 'name': 'United Kingdom'}, {'iso_3166_1': 'US', 'name': 'United States of America'}]\n",
      "   release_date   revenue runtime\n",
      "1    1995-10-30 373554033      81\n",
      "2    1995-12-15 262797249     104\n",
      "3    1995-12-22         0     101\n",
      "4    1995-12-22  81452156     127\n",
      "5    1995-02-10  76578911     106\n",
      "6    1995-12-15 187436818     170\n",
      "7    1995-12-15         0     127\n",
      "8    1995-12-22         0      97\n",
      "9    1995-12-22  64350171     106\n",
      "10   1995-11-16 352194034     130\n",
      "                                                                                                           spoken_languages\n",
      "1                                                                                  [{'iso_639_1': 'en', 'name': 'English'}]\n",
      "2                                         [{'iso_639_1': 'en', 'name': 'English'}, {'iso_639_1': 'fr', 'name': 'Français'}]\n",
      "3                                                                                  [{'iso_639_1': 'en', 'name': 'English'}]\n",
      "4                                                                                  [{'iso_639_1': 'en', 'name': 'English'}]\n",
      "5                                                                                  [{'iso_639_1': 'en', 'name': 'English'}]\n",
      "6                                          [{'iso_639_1': 'en', 'name': 'English'}, {'iso_639_1': 'es', 'name': 'Español'}]\n",
      "7                                         [{'iso_639_1': 'fr', 'name': 'Français'}, {'iso_639_1': 'en', 'name': 'English'}]\n",
      "8                                          [{'iso_639_1': 'en', 'name': 'English'}, {'iso_639_1': 'de', 'name': 'Deutsch'}]\n",
      "9                                                                                  [{'iso_639_1': 'en', 'name': 'English'}]\n",
      "10 [{'iso_639_1': 'en', 'name': 'English'}, {'iso_639_1': 'ru', 'name': 'Pусский'}, {'iso_639_1': 'es', 'name': 'Español'}]\n",
      "     status\n",
      "1  Released\n",
      "2  Released\n",
      "3  Released\n",
      "4  Released\n",
      "5  Released\n",
      "6  Released\n",
      "7  Released\n",
      "8  Released\n",
      "9  Released\n",
      "10 Released\n",
      "                                                                          tagline\n",
      "1                                                                                \n",
      "2                                       Roll the dice and unleash the excitement!\n",
      "3                            Still Yelling. Still Fighting. Still Ready for Love.\n",
      "4  Friends are the people who let you be yourself... and never let you forget it.\n",
      "5  Just When His World Is Back To Normal... He's In For The Surprise Of His Life!\n",
      "6                                                        A Los Angeles Crime Saga\n",
      "7            You are cordially invited to the most surprising merger of the year.\n",
      "8                                                          The Original Bad Boys.\n",
      "9                                                      Terror goes into overtime.\n",
      "10                                           No limits. No fears. No substitutes.\n",
      "                         title video vote_average vote_count\n",
      "1                    Toy Story False          7.7       5415\n",
      "2                      Jumanji False          6.9       2413\n",
      "3             Grumpier Old Men False          6.5         92\n",
      "4            Waiting to Exhale False          6.1         34\n",
      "5  Father of the Bride Part II False          5.7        173\n",
      "6                         Heat False          7.7       1886\n",
      "7                      Sabrina False          6.2        141\n",
      "8                 Tom and Huck False          5.4         45\n",
      "9                 Sudden Death False          5.5        174\n",
      "10                   GoldenEye False          6.6       1194\n"
     ]
    }
   ],
   "source": [
    "# Write a R program to read the .csv file and display the content.\n",
    "\n",
    "# Read the CSV file named \"movies_metadata.csv\" into a data frame,\n",
    "# including headers and using comma as the separator\n",
    "movie_data = read.csv(file=\"c:/users/OlhaIshchenko/Documents/Daten_Analyse/unterricht/movies_metadata.csv\", header=TRUE, sep=\",\")\n",
    "\n",
    "# Print a message indicating that the following output is the content of the CSV file\n",
    "print(\"Content of the .csv file:\")\n",
    "\n",
    "# Print the contents of the 'movie_data' data frame\n",
    "print(head(movie_data, 10))\n"
   ]
  },
  {
   "cell_type": "code",
   "execution_count": 17,
   "metadata": {
    "vscode": {
     "languageId": "r"
    }
   },
   "outputs": [
    {
     "name": "stdout",
     "output_type": "stream",
     "text": [
      "[1] \"double\"\n",
      "[1] \"character\"\n",
      "[1] \"logical\"\n"
     ]
    }
   ],
   "source": [
    "# Write a R program to create three vectors numeric data, character data and logical data.\n",
    "#  Display the content of the vectors and their type.\n",
    "nums <- c(1, 2, 3)\n",
    "letts <- c('a', 'b', 'f')\n",
    "bools <- c(TRUE, FALSE, TRUE)\n",
    "#print(ls.str()) \n",
    "print(typeof(nums))\n",
    "print(typeof(letts))\n",
    "print(typeof(bools))"
   ]
  },
  {
   "cell_type": "code",
   "execution_count": 18,
   "metadata": {
    "vscode": {
     "languageId": "r"
    }
   },
   "outputs": [
    {
     "name": "stdout",
     "output_type": "stream",
     "text": [
      "     [,1] [,2] [,3] [,4]\n",
      "[1,]    1    6   11   16\n",
      "[2,]    2    7   12   17\n",
      "[3,]    3    8   13   18\n",
      "[4,]    4    9   14   19\n",
      "[5,]    5   10   15   20\n",
      "     C.1 C.2 C.3\n",
      "row1   4   5   6\n",
      "row2   7   8   9\n",
      "row3  10  11  12\n",
      "   1  2\n",
      "a 16 18\n",
      "b 17 19\n"
     ]
    }
   ],
   "source": [
    "# Write a R program to create a 5 x 4 matrix ,\n",
    "#  3 x 3 matrix with labels and fill the matrix by rows and \n",
    "#  2 × 2 matrix with labels and fill the matrix by columns.\n",
    "\n",
    "a <- matrix(c(1:20), nrow=5, ncol=4)\n",
    "b <- matrix(c(4:12), nrow=3, ncol=3, byrow=TRUE, dimnames=list(c(\"row1\", \"row2\", \"row3\"), c(\"C.1\", \"C.2\", \"C.3\")))\n",
    "c <- matrix(c(16:19), nrow=2, ncol=2, dimnames=list(c(\"a\", \"b\"), c(\"1\", \"2\")))\n",
    "print(a)\n",
    "print(b)\n",
    "print(c)\n"
   ]
  },
  {
   "cell_type": "code",
   "execution_count": 19,
   "metadata": {
    "vscode": {
     "languageId": "r"
    }
   },
   "outputs": [
    {
     "name": "stdout",
     "output_type": "stream",
     "text": [
      " [1]  1  2  3  4  5  6  7  8  9 10 11 12 13 14 15 16 17 18 19 20 21 22 23 24\n",
      ", , 1\n",
      "\n",
      "     C.1 C.2 C.3\n",
      "row1   1   4   7\n",
      "row2   2   5   8\n",
      "row3   3   6   9\n",
      "\n",
      ", , Part1\n",
      "\n",
      "     Row1 Row2 Row3\n",
      "Col1    6   10   14\n",
      "Col2    7   11   15\n",
      "Col3    8   12   16\n",
      "Col4    9   13   17\n",
      "\n",
      ", , Part2\n",
      "\n",
      "     Row1 Row2 Row3\n",
      "Col1   18   22   26\n",
      "Col2   19   23   27\n",
      "Col3   20   24   28\n",
      "Col4   21   25   29\n",
      "\n"
     ]
    }
   ],
   "source": [
    "# Write a R program to create an array, passing in a vector of values \n",
    "# and a vector of dimensions. Also provide names for each dimension.\n",
    "\n",
    "thisarray <- c(1:24)\n",
    "print(thisarray)\n",
    "\n",
    "# An array with more than one dimension\n",
    "multiarray <- array(thisarray, dim = c(3, 3, 1), dimnames=list(c(\"row1\", \"row2\", \"row3\"), c(\"C.1\", \"C.2\", \"C.3\")))\n",
    "print(multiarray)\n",
    "\n",
    "# Create an array with values from 6 to 30\n",
    "a = array(\n",
    "  6:30,  # Define the values for the array\n",
    "  dim = c(4, 3, 2),  # Specify the dimensions of the array: 4 rows, 3 columns, 2 parts\n",
    "  dimnames = list(  # Provide names for the dimensions\n",
    "    c(\"Col1\", \"Col2\", \"Col3\", \"Col4\"),  # Names for the columns\n",
    "    c(\"Row1\", \"Row2\", \"Row3\"),  # Names for the rows\n",
    "    c(\"Part1\", \"Part2\")  # Names for the parts\n",
    "  )\n",
    ")\n",
    "\n",
    "# Print the content of the array\n",
    "print(a)"
   ]
  },
  {
   "cell_type": "code",
   "execution_count": 20,
   "metadata": {
    "vscode": {
     "languageId": "r"
    }
   },
   "outputs": [
    {
     "name": "stdout",
     "output_type": "stream",
     "text": [
      ", , 1\n",
      "\n",
      "     [,1] [,2] [,3]\n",
      "[1,]    1    4    7\n",
      "[2,]    2    5    8\n",
      "[3,]    3    6    9\n",
      "\n",
      ", , 2\n",
      "\n",
      "     [,1] [,2] [,3]\n",
      "[1,]   10   13   16\n",
      "[2,]   11   14   17\n",
      "[3,]   12   15   18\n",
      "\n"
     ]
    }
   ],
   "source": [
    "# Write a R program to create an array with three columns, three rows, and two \"tables\",\n",
    "#  taking two  vectors as input to the array.  Print the array.\n",
    "v1 <- c(1:9)\n",
    "v2 <- c(10:19)\n",
    "a = array(\n",
    "    c(v1,v2),\n",
    "    dim=c(3,3,2)\n",
    ")\n",
    "print(a)"
   ]
  },
  {
   "cell_type": "code",
   "execution_count": 21,
   "metadata": {
    "vscode": {
     "languageId": "r"
    }
   },
   "outputs": [
    {
     "name": "stdout",
     "output_type": "stream",
     "text": [
      "[1] \"Content of the list:\"\n",
      "[[1]]\n",
      "[1]  1  2  2  5  7 12\n",
      "\n",
      "[[2]]\n",
      " [1] \"Jan\" \"Feb\" \"Mar\" \"Apr\" \"May\" \"Jun\" \"Jul\" \"Aug\" \"Sep\" \"Oct\" \"Nov\" \"Dec\"\n",
      "\n",
      "[[3]]\n",
      "     [,1] [,2]\n",
      "[1,]    3    1\n",
      "[2,]   -8   -3\n",
      "\n",
      "[[4]]\n",
      "function (x)  .Primitive(\"asin\")\n",
      "\n"
     ]
    }
   ],
   "source": [
    "# Write a R program to create a list of elements using vectors,\n",
    "#  matrices and a functions. Print the content of the list.\n",
    "\n",
    "# Create a list with various elements:\n",
    "# - A numeric vector\n",
    "# - The built-in vector of month abbreviations\n",
    "# - A 2x2 matrix with specified values\n",
    "# - The 'asin' function\n",
    "l = list(\n",
    "  c(1, 2, 2, 5, 7, 12),  # Numeric vector\n",
    "  month.abb,              # Vector of month abbreviations\n",
    "  matrix(c(3, -8, 1, -3), nrow = 2),  # 2x2 matrix\n",
    "  asin                    # 'asin' function\n",
    ")\n",
    "\n",
    "# Print a message indicating the content of the list\n",
    "print(\"Content of the list:\")\n",
    "\n",
    "# Print the content of the list\n",
    "print(l)\n"
   ]
  },
  {
   "cell_type": "code",
   "execution_count": 22,
   "metadata": {
    "vscode": {
     "languageId": "r"
    }
   },
   "outputs": [
    {
     "data": {
      "image/png": "[encoded data removed]",
      "text/plain": [
       "plot without title"
      ]
     },
     "metadata": {
      "image/png": {
       "height": 420,
       "width": 420
      }
     },
     "output_type": "display_data"
    }
   ],
   "source": [
    "# Write a R program to draw an empty plot and an empty \n",
    "# plot specify the axes limits of the graphic.\n",
    "# plot(1,3)\n",
    "\n",
    "\n",
    "# Uncomment to print a message indicating an empty plot\n",
    "#print(\"Empty plot:\")\n",
    "\n",
    "# Create a new empty plot with no axes or labels\n",
    "plot.new()\n",
    "\n",
    "# Uncomment to print a message indicating an empty plot with specified axes limits\n",
    "#print(\"Empty plot specify the axes limits of the graphic:\")\n",
    "\n",
    "# Create an empty plot with specified x and y limits, without plotting points\n",
    "plot(1, type=\"n\", xlab=\"\", ylab=\"\", xlim=c(0, 20), ylim=c(0, 20))\n"
   ]
  },
  {
   "cell_type": "markdown",
   "metadata": {},
   "source": [
    "**21**\n",
    "Write a R program to create a simple bar plot of five subjects marks."
   ]
  },
  {
   "cell_type": "code",
   "execution_count": 26,
   "metadata": {
    "vscode": {
     "languageId": "r"
    }
   },
   "outputs": [
    {
     "data": {
      "image/png": "[encoded data removed]",
      "text/plain": [
       "Plot with title \"Comparing marks of 5 subjects\""
      ]
     },
     "metadata": {
      "image/png": {
       "height": 420,
       "width": 420
      }
     },
     "output_type": "display_data"
    }
   ],
   "source": [
    "# Define a vector of marks for the 4 subjects\n",
    "marks <- c(70, 95, 80, 74, 40)\n",
    "\n",
    "# Create a bar plot with the specified marks\n",
    "barplot(marks,\n",
    "  \n",
    "  # Set the title of the bar plot\n",
    "  main = \"Comparing marks of 5 subjects\",\n",
    "  \n",
    "  # Label the x-axis as \"Marks\"\n",
    "  xlab = \"Marks\",\n",
    "  \n",
    "  # Label the y-axis as \"Subject\"\n",
    "  ylab = \"Subject\",\n",
    "  \n",
    "  # Set the names of the bars\n",
    "  names.arg = c(\"English\", \"Science\", \"Math.\", \"Hist.\", \"German\"),\n",
    "  \n",
    "  # Set the color of the bars to dark red\n",
    "  col = \"darkred\",\n",
    "  \n",
    "  # Ensure the bars are vertical\n",
    "  horiz = FALSE)\n"
   ]
  },
  {
   "cell_type": "markdown",
   "metadata": {},
   "source": [
    "**22** \n",
    "Write a R program to create  bell curve of a random normal distribution"
   ]
  },
  {
   "cell_type": "code",
   "execution_count": 27,
   "metadata": {
    "vscode": {
     "languageId": "r"
    }
   },
   "outputs": [
    {
     "data": {
      "image/png": "[encoded data removed]",
      "text/plain": [
       "plot without title"
      ]
     },
     "metadata": {
      "image/png": {
       "height": 420,
       "width": 420
      }
     },
     "output_type": "display_data"
    }
   ],
   "source": [
    "# Generate a vector of 10,000 random numbers from a normal distribution\n",
    "# with a mean of 500 and a standard deviation of 100, then round down\n",
    "n = floor(rnorm(10000, 500, 100))\n",
    "\n",
    "# Create a frequency table of the generated numbers\n",
    "t = table(n)\n",
    "\n",
    "# Create a bar plot of the frequency table\n",
    "barplot(t)\n"
   ]
  },
  {
   "cell_type": "markdown",
   "metadata": {},
   "source": [
    "**23**\n",
    "Write a R program to compute sum, mean and product of a given vector elements."
   ]
  },
  {
   "cell_type": "code",
   "execution_count": 30,
   "metadata": {
    "vscode": {
     "languageId": "r"
    }
   },
   "outputs": [
    {
     "name": "stdout",
     "output_type": "stream",
     "text": [
      "[1] 7\n"
     ]
    },
    {
     "name": "stdout",
     "output_type": "stream",
     "text": [
      "[1] 2.333333\n",
      "[1] 8\n"
     ]
    }
   ],
   "source": [
    "a <- c(1, 2, 4)\n",
    "sum_a <- sum(a)\n",
    "mean_a <- mean(a)\n",
    "prod_a <- prod(a)\n",
    "print(sum_a)\n",
    "print(mean_a)\n",
    "print(prod_a)"
   ]
  },
  {
   "cell_type": "markdown",
   "metadata": {},
   "source": [
    "**24**\n",
    "Write a R program to create a list of heterogeneous data, which include character, numeric and logical vectors. Print the lists."
   ]
  },
  {
   "cell_type": "code",
   "execution_count": 31,
   "metadata": {
    "vscode": {
     "languageId": "r"
    }
   },
   "outputs": [
    {
     "name": "stdout",
     "output_type": "stream",
     "text": [
      "[[1]]\n",
      "[1] \"a\" \"b\" \"c\"\n",
      "\n",
      "[[2]]\n",
      "[1]  1  2  2  5  7 12\n",
      "\n",
      "[[3]]\n",
      "[1]  TRUE FALSE FALSE\n",
      "\n"
     ]
    }
   ],
   "source": [
    "l <- list(\n",
    "    c('a', 'b', 'c'),\n",
    "    c(1, 2, 2, 5, 7, 12),  # Numeric vector\n",
    "    c(TRUE, FALSE, FALSE)\n",
    ")\n",
    "print(l)"
   ]
  },
  {
   "cell_type": "code",
   "execution_count": 32,
   "metadata": {
    "vscode": {
     "languageId": "r"
    }
   },
   "outputs": [
    {
     "name": "stdout",
     "output_type": "stream",
     "text": [
      "$Chr\n",
      "[1] \"Python\"\n",
      "\n",
      "$nums\n",
      " [1]  1  2  3  4  5  6  7  8  9 10 11 12 13 14 15\n",
      "\n",
      "$flag\n",
      "[1] TRUE\n",
      "\n"
     ]
    }
   ],
   "source": [
    "# Create a list named 'my_list' with three elements: \n",
    "# a character vector ('Chr'), a numeric sequence from 1 to 15 ('nums'), and a logical value ('flag')\n",
    "my_list = list(Chr=\"Python\", nums = 1:15, flag=TRUE)\n",
    "\n",
    "# Print the entire list to the console\n",
    "print(my_list)\n"
   ]
  },
  {
   "cell_type": "markdown",
   "metadata": {},
   "source": [
    "**25**\n",
    "Write a R program to create a Dataframes which contain details of 5 employees and display the details."
   ]
  },
  {
   "cell_type": "code",
   "execution_count": 2,
   "metadata": {
    "vscode": {
     "languageId": "r"
    }
   },
   "outputs": [
    {
     "data": {
      "text/html": [
       "<table class=\"dataframe\">\n",
       "<caption>A data.frame: 5 × 3</caption>\n",
       "<thead>\n",
       "\t<tr><th scope=col>Employees</th><th scope=col>Employer</th><th scope=col>Duration</th></tr>\n",
       "\t<tr><th scope=col>&lt;chr&gt;</th><th scope=col>&lt;dbl&gt;</th><th scope=col>&lt;dbl&gt;</th></tr>\n",
       "</thead>\n",
       "<tbody>\n",
       "\t<tr><td>Strength</td><td>100</td><td>60</td></tr>\n",
       "\t<tr><td>Stamina </td><td>150</td><td>30</td></tr>\n",
       "\t<tr><td>Other   </td><td>120</td><td>45</td></tr>\n",
       "\t<tr><td>Amazon  </td><td>150</td><td>50</td></tr>\n",
       "\t<tr><td>Zalando </td><td>200</td><td>55</td></tr>\n",
       "</tbody>\n",
       "</table>\n"
      ],
      "text/latex": [
       "A data.frame: 5 × 3\n",
       "\\begin{tabular}{lll}\n",
       " Employees & Employer & Duration\\\\\n",
       " <chr> & <dbl> & <dbl>\\\\\n",
       "\\hline\n",
       "\t Strength & 100 & 60\\\\\n",
       "\t Stamina  & 150 & 30\\\\\n",
       "\t Other    & 120 & 45\\\\\n",
       "\t Amazon   & 150 & 50\\\\\n",
       "\t Zalando  & 200 & 55\\\\\n",
       "\\end{tabular}\n"
      ],
      "text/markdown": [
       "\n",
       "A data.frame: 5 × 3\n",
       "\n",
       "| Employees &lt;chr&gt; | Employer &lt;dbl&gt; | Duration &lt;dbl&gt; |\n",
       "|---|---|---|\n",
       "| Strength | 100 | 60 |\n",
       "| Stamina  | 150 | 30 |\n",
       "| Other    | 120 | 45 |\n",
       "| Amazon   | 150 | 50 |\n",
       "| Zalando  | 200 | 55 |\n",
       "\n"
      ],
      "text/plain": [
       "  Employees Employer Duration\n",
       "1 Strength  100      60      \n",
       "2 Stamina   150      30      \n",
       "3 Other     120      45      \n",
       "4 Amazon    150      50      \n",
       "5 Zalando   200      55      "
      ]
     },
     "metadata": {},
     "output_type": "display_data"
    },
    {
     "data": {
      "text/plain": [
       "  Employees            Employer      Duration \n",
       " Length:5           Min.   :100   Min.   :30  \n",
       " Class :character   1st Qu.:120   1st Qu.:45  \n",
       " Mode  :character   Median :150   Median :50  \n",
       "                    Mean   :144   Mean   :48  \n",
       "                    3rd Qu.:150   3rd Qu.:55  \n",
       "                    Max.   :200   Max.   :60  "
      ]
     },
     "metadata": {},
     "output_type": "display_data"
    }
   ],
   "source": [
    "# Create a data frame\n",
    "Data_Frame <- data.frame (\n",
    "  Employees = c(\"Strength\", \"Stamina\", \"Other\", \"Amazon\", \"Zalando\"),\n",
    "  Employer = c(100, 150, 120, 150, 200),\n",
    "  Duration = c(60, 30, 45, 50, 55)\n",
    ")\n",
    "\n",
    "# Print the data frame\n",
    "Data_Frame\n",
    "summary(Data_Frame)"
   ]
  },
  {
   "cell_type": "code",
   "execution_count": 3,
   "metadata": {
    "vscode": {
     "languageId": "r"
    }
   },
   "outputs": [
    {
     "name": "stdout",
     "output_type": "stream",
     "text": [
      "[1] \"Details of the employees:\"\n",
      "          Name Gender Age Designation         SSN\n",
      "1  Anastasia S      M  23       Clerk 123-34-2346\n",
      "2       Dima R      M  22     Manager  123-44-779\n",
      "3  Katherine S      F  25    Exective  556-24-433\n",
      "4      JAMES A      F  26         CEO  123-98-987\n",
      "5 LAURA MARTIN      M  32   ASSISTANT  679-77-576\n"
     ]
    }
   ],
   "source": [
    "# Create a data frame named 'Employees' with details of 5 employees\n",
    "Employees = data.frame(\n",
    "  # Employee names\n",
    "  Name = c(\"Anastasia S\", \"Dima R\", \"Katherine S\", \"JAMES A\", \"LAURA MARTIN\"),\n",
    "  # Employee genders\n",
    "  Gender = c(\"M\", \"M\", \"F\", \"F\", \"M\"),\n",
    "  # Employee ages\n",
    "  Age = c(23, 22, 25, 26, 32),\n",
    "  # Employee designations\n",
    "  Designation = c(\"Clerk\", \"Manager\", \"Exective\", \"CEO\", \"ASSISTANT\"),\n",
    "  # Employee Social Security Numbers (SSN)\n",
    "  SSN = c(\"123-34-2346\", \"123-44-779\", \"556-24-433\", \"123-98-987\", \"679-77-576\")\n",
    ")\n",
    "\n",
    "# Print a message indicating the details of the employees\n",
    "print(\"Details of the employees:\")\n",
    "\n",
    "# Print the entire 'Employees' data frame\n",
    "print(Employees)"
   ]
  },
  {
   "cell_type": "markdown",
   "metadata": {},
   "source": [
    "**26**\n",
    "Write a R program to create a Data Frames which contain details of 5 employees and display summary of the data"
   ]
  },
  {
   "cell_type": "code",
   "execution_count": 4,
   "metadata": {
    "vscode": {
     "languageId": "r"
    }
   },
   "outputs": [
    {
     "data": {
      "text/plain": [
       "     Name              Gender               Age       Designation       \n",
       " Length:5           Length:5           Min.   :22.0   Length:5          \n",
       " Class :character   Class :character   1st Qu.:23.0   Class :character  \n",
       " Mode  :character   Mode  :character   Median :25.0   Mode  :character  \n",
       "                                       Mean   :25.6                     \n",
       "                                       3rd Qu.:26.0                     \n",
       "                                       Max.   :32.0                     \n",
       "     SSN           \n",
       " Length:5          \n",
       " Class :character  \n",
       " Mode  :character  \n",
       "                   \n",
       "                   \n",
       "                   "
      ]
     },
     "metadata": {},
     "output_type": "display_data"
    }
   ],
   "source": [
    "summary(Employees)"
   ]
  },
  {
   "cell_type": "markdown",
   "metadata": {},
   "source": [
    "**27**\n",
    "Write a R program to create the system's idea of the current date with and without time."
   ]
  },
  {
   "cell_type": "code",
   "execution_count": 5,
   "metadata": {
    "vscode": {
     "languageId": "r"
    }
   },
   "outputs": [
    {
     "name": "stdout",
     "output_type": "stream",
     "text": [
      "[1] \"System's idea of the current date with and without time:\"\n",
      "[1] \"2024-10-10\"\n",
      "[1] \"2024-10-10 09:08:30 CEST\"\n"
     ]
    }
   ],
   "source": [
    "# Print a message indicating the system's idea of the current date with and without time\n",
    "print(\"System's idea of the current date with and without time:\")\n",
    "\n",
    "# Print the current date (without time) according to the system\n",
    "print(Sys.Date())\n",
    "\n",
    "# Print the current date and time according to the system\n",
    "print(Sys.time())"
   ]
  }
 ],
 "metadata": {
  "kernelspec": {
   "display_name": "R",
   "language": "R",
   "name": "ir"
  },
  "language_info": {
   "codemirror_mode": "r",
   "file_extension": ".r",
   "mimetype": "text/x-r-source",
   "name": "R",
   "pygments_lexer": "r",
   "version": "4.4.1"
  }
 },
 "nbformat": 4,
 "nbformat_minor": 2
}
